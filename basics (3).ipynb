{
  "cells": [
    {
      "cell_type": "markdown",
      "source": [
        "white board link copy and paste in new tab -\n",
        "\n",
        "\n",
        "\n",
        "https://miro.com/app/board/uXjVKCUJtLM=/?share_link_id=823957950797"
      ],
      "metadata": {
        "id": "ngcEv8yCrCtl"
      },
      "id": "ngcEv8yCrCtl"
    },
    {
      "cell_type": "code",
      "execution_count": null,
      "id": "d7427db8",
      "metadata": {
        "id": "d7427db8"
      },
      "outputs": [],
      "source": [
        "# assigning value 10 to variable a\n",
        "a=10"
      ]
    },
    {
      "cell_type": "code",
      "source": [
        "#printing a\n",
        "a"
      ],
      "metadata": {
        "id": "Kgjas9xTJScq",
        "colab": {
          "base_uri": "https://localhost:8080/"
        },
        "outputId": "f10d845b-5f4b-4320-8957-731270175c52"
      },
      "id": "Kgjas9xTJScq",
      "execution_count": null,
      "outputs": [
        {
          "output_type": "execute_result",
          "data": {
            "text/plain": [
              "10"
            ]
          },
          "metadata": {},
          "execution_count": 2
        }
      ]
    },
    {
      "cell_type": "code",
      "source": [
        "print(a)"
      ],
      "metadata": {
        "colab": {
          "base_uri": "https://localhost:8080/"
        },
        "id": "H8O8LTlcE20K",
        "outputId": "7a7031dd-63fc-4148-a554-75a18fd78f09"
      },
      "id": "H8O8LTlcE20K",
      "execution_count": null,
      "outputs": [
        {
          "output_type": "stream",
          "name": "stdout",
          "text": [
            "10\n"
          ]
        }
      ]
    },
    {
      "cell_type": "code",
      "source": [
        "a1=90\n",
        "a1"
      ],
      "metadata": {
        "colab": {
          "base_uri": "https://localhost:8080/"
        },
        "id": "KL2WCYICE4Cj",
        "outputId": "dbd9b477-7b39-41b9-831d-482583813084"
      },
      "id": "KL2WCYICE4Cj",
      "execution_count": null,
      "outputs": [
        {
          "output_type": "execute_result",
          "data": {
            "text/plain": [
              "90"
            ]
          },
          "metadata": {},
          "execution_count": 4
        }
      ]
    },
    {
      "cell_type": "code",
      "source": [
        "xyz123456789=90\n",
        "xyz123456789"
      ],
      "metadata": {
        "colab": {
          "base_uri": "https://localhost:8080/"
        },
        "id": "ZrqTQeFtFsXO",
        "outputId": "c057ab00-0340-45e4-d85e-11a80db304e6"
      },
      "id": "ZrqTQeFtFsXO",
      "execution_count": null,
      "outputs": [
        {
          "output_type": "execute_result",
          "data": {
            "text/plain": [
              "90"
            ]
          },
          "metadata": {},
          "execution_count": 5
        }
      ]
    },
    {
      "cell_type": "code",
      "source": [
        "123=20"
      ],
      "metadata": {
        "colab": {
          "base_uri": "https://localhost:8080/",
          "height": 109
        },
        "id": "BTHmzPu_FwxZ",
        "outputId": "8aba867a-a816-4822-c632-20aea5494588"
      },
      "id": "BTHmzPu_FwxZ",
      "execution_count": null,
      "outputs": [
        {
          "output_type": "error",
          "ename": "SyntaxError",
          "evalue": "cannot assign to literal here. Maybe you meant '==' instead of '='? (<ipython-input-6-121b578b1bf5>, line 1)",
          "traceback": [
            "\u001b[0;36m  File \u001b[0;32m\"<ipython-input-6-121b578b1bf5>\"\u001b[0;36m, line \u001b[0;32m1\u001b[0m\n\u001b[0;31m    123=20\u001b[0m\n\u001b[0m    ^\u001b[0m\n\u001b[0;31mSyntaxError\u001b[0m\u001b[0;31m:\u001b[0m cannot assign to literal here. Maybe you meant '==' instead of '='?\n"
          ]
        }
      ]
    },
    {
      "cell_type": "code",
      "source": [
        "a1=20\n",
        "a1"
      ],
      "metadata": {
        "id": "RY8LocxuF8eU"
      },
      "id": "RY8LocxuF8eU",
      "execution_count": null,
      "outputs": []
    },
    {
      "cell_type": "code",
      "source": [
        "1a=20\n",
        "1a"
      ],
      "metadata": {
        "id": "TXQDDpolGL3a"
      },
      "id": "TXQDDpolGL3a",
      "execution_count": null,
      "outputs": []
    },
    {
      "cell_type": "code",
      "source": [
        "a_a=123\n",
        "a_a"
      ],
      "metadata": {
        "id": "F6t3R2u_GONh"
      },
      "id": "F6t3R2u_GONh",
      "execution_count": null,
      "outputs": []
    },
    {
      "cell_type": "code",
      "source": [
        "a a=20\n",
        "a a"
      ],
      "metadata": {
        "id": "Z4atxCvRGl4G"
      },
      "id": "Z4atxCvRGl4G",
      "execution_count": null,
      "outputs": []
    },
    {
      "cell_type": "code",
      "source": [
        "a%a=90\n",
        "a%a"
      ],
      "metadata": {
        "id": "OeGkLqQnGqVo"
      },
      "id": "OeGkLqQnGqVo",
      "execution_count": null,
      "outputs": []
    },
    {
      "cell_type": "code",
      "source": [
        "a_1=90\n",
        "a_1"
      ],
      "metadata": {
        "id": "Y5JzsbKAGufp"
      },
      "id": "Y5JzsbKAGufp",
      "execution_count": null,
      "outputs": []
    },
    {
      "cell_type": "code",
      "source": [
        "a_a=123\n",
        "a_a"
      ],
      "metadata": {
        "id": "p9r5i1nKG3FX",
        "colab": {
          "base_uri": "https://localhost:8080/"
        },
        "outputId": "8a4769ad-c0cc-4ee9-e30d-a02274b05b8c"
      },
      "id": "p9r5i1nKG3FX",
      "execution_count": null,
      "outputs": [
        {
          "output_type": "execute_result",
          "data": {
            "text/plain": [
              "123"
            ]
          },
          "metadata": {},
          "execution_count": 7
        }
      ]
    },
    {
      "cell_type": "code",
      "source": [
        "a=10"
      ],
      "metadata": {
        "id": "bbc-QHgyG5LG"
      },
      "id": "bbc-QHgyG5LG",
      "execution_count": null,
      "outputs": []
    },
    {
      "cell_type": "code",
      "source": [
        "a"
      ],
      "metadata": {
        "colab": {
          "base_uri": "https://localhost:8080/"
        },
        "id": "w-Ha6hLFHKxL",
        "outputId": "ab093e8c-518e-4327-8331-9bf60fa7bb92"
      },
      "id": "w-Ha6hLFHKxL",
      "execution_count": null,
      "outputs": [
        {
          "output_type": "execute_result",
          "data": {
            "text/plain": [
              "10"
            ]
          },
          "metadata": {},
          "execution_count": 9
        }
      ]
    },
    {
      "cell_type": "code",
      "source": [
        "a=10\n",
        "a"
      ],
      "metadata": {
        "colab": {
          "base_uri": "https://localhost:8080/"
        },
        "id": "hGCrTpHUHMwK",
        "outputId": "8756376e-58c5-4a27-d09d-98d38d07b477"
      },
      "id": "hGCrTpHUHMwK",
      "execution_count": null,
      "outputs": [
        {
          "output_type": "execute_result",
          "data": {
            "text/plain": [
              "10"
            ]
          },
          "metadata": {},
          "execution_count": 10
        }
      ]
    },
    {
      "cell_type": "code",
      "source": [
        "B=10"
      ],
      "metadata": {
        "id": "JxpAn9F1HOrS"
      },
      "id": "JxpAn9F1HOrS",
      "execution_count": null,
      "outputs": []
    },
    {
      "cell_type": "code",
      "source": [
        "b"
      ],
      "metadata": {
        "colab": {
          "base_uri": "https://localhost:8080/",
          "height": 145
        },
        "id": "llCnZDcpIfES",
        "outputId": "c5a904ce-3a03-41ca-f354-aa9c720a5b13"
      },
      "id": "llCnZDcpIfES",
      "execution_count": null,
      "outputs": [
        {
          "output_type": "error",
          "ename": "NameError",
          "evalue": "name 'b' is not defined",
          "traceback": [
            "\u001b[0;31m---------------------------------------------------------------------------\u001b[0m",
            "\u001b[0;31mNameError\u001b[0m                                 Traceback (most recent call last)",
            "\u001b[0;32m<ipython-input-12-89e6c98d9288>\u001b[0m in \u001b[0;36m<cell line: 1>\u001b[0;34m()\u001b[0m\n\u001b[0;32m----> 1\u001b[0;31m \u001b[0mb\u001b[0m\u001b[0;34m\u001b[0m\u001b[0;34m\u001b[0m\u001b[0m\n\u001b[0m",
            "\u001b[0;31mNameError\u001b[0m: name 'b' is not defined"
          ]
        }
      ]
    },
    {
      "cell_type": "code",
      "source": [
        "B"
      ],
      "metadata": {
        "id": "QDvlaYQJIfej"
      },
      "id": "QDvlaYQJIfej",
      "execution_count": null,
      "outputs": []
    },
    {
      "cell_type": "code",
      "source": [
        "a=90\n",
        "b=80\n",
        "c=100\n",
        "print(a)\n",
        "print(b)\n",
        "print(c)"
      ],
      "metadata": {
        "id": "FpUSF8J1Ik_3"
      },
      "id": "FpUSF8J1Ik_3",
      "execution_count": null,
      "outputs": []
    },
    {
      "cell_type": "code",
      "source": [
        "print(a,b,c)"
      ],
      "metadata": {
        "colab": {
          "base_uri": "https://localhost:8080/",
          "height": 145
        },
        "id": "liGUftgjI0Qy",
        "outputId": "0cd5979b-5421-4c55-f6fb-e74489c11b3f"
      },
      "id": "liGUftgjI0Qy",
      "execution_count": null,
      "outputs": [
        {
          "output_type": "error",
          "ename": "NameError",
          "evalue": "name 'b' is not defined",
          "traceback": [
            "\u001b[0;31m---------------------------------------------------------------------------\u001b[0m",
            "\u001b[0;31mNameError\u001b[0m                                 Traceback (most recent call last)",
            "\u001b[0;32m<ipython-input-13-7adbf16321d1>\u001b[0m in \u001b[0;36m<cell line: 1>\u001b[0;34m()\u001b[0m\n\u001b[0;32m----> 1\u001b[0;31m \u001b[0mprint\u001b[0m\u001b[0;34m(\u001b[0m\u001b[0ma\u001b[0m\u001b[0;34m,\u001b[0m\u001b[0mb\u001b[0m\u001b[0;34m,\u001b[0m\u001b[0mc\u001b[0m\u001b[0;34m)\u001b[0m\u001b[0;34m\u001b[0m\u001b[0;34m\u001b[0m\u001b[0m\n\u001b[0m",
            "\u001b[0;31mNameError\u001b[0m: name 'b' is not defined"
          ]
        }
      ]
    },
    {
      "cell_type": "code",
      "source": [
        "a=10\n",
        "type(a)"
      ],
      "metadata": {
        "id": "UkXzK2-PJMWe"
      },
      "id": "UkXzK2-PJMWe",
      "execution_count": null,
      "outputs": []
    },
    {
      "cell_type": "code",
      "source": [
        "b=90.12\n",
        "type(b)"
      ],
      "metadata": {
        "id": "gf228U7CJeTz"
      },
      "id": "gf228U7CJeTz",
      "execution_count": null,
      "outputs": []
    },
    {
      "cell_type": "code",
      "source": [
        "c='nia'\n",
        "type(c)"
      ],
      "metadata": {
        "id": "3g8kTv9TJg8s"
      },
      "id": "3g8kTv9TJg8s",
      "execution_count": null,
      "outputs": []
    },
    {
      "cell_type": "code",
      "source": [
        "d=True\n",
        "type(d)"
      ],
      "metadata": {
        "id": "8iIXjWv1JkIW"
      },
      "id": "8iIXjWv1JkIW",
      "execution_count": null,
      "outputs": []
    },
    {
      "cell_type": "code",
      "source": [
        "a=10\n",
        "b=20"
      ],
      "metadata": {
        "id": "4JUJRdX0Jmlz"
      },
      "id": "4JUJRdX0Jmlz",
      "execution_count": null,
      "outputs": []
    },
    {
      "cell_type": "code",
      "source": [
        "a+b"
      ],
      "metadata": {
        "id": "y_hwB38sLKGq"
      },
      "id": "y_hwB38sLKGq",
      "execution_count": null,
      "outputs": []
    },
    {
      "cell_type": "code",
      "source": [
        "type(a)"
      ],
      "metadata": {
        "id": "JT5Xrm6MLMBF"
      },
      "id": "JT5Xrm6MLMBF",
      "execution_count": null,
      "outputs": []
    },
    {
      "cell_type": "code",
      "source": [
        "type(b)"
      ],
      "metadata": {
        "id": "cGtfQdCULQ3_"
      },
      "id": "cGtfQdCULQ3_",
      "execution_count": null,
      "outputs": []
    },
    {
      "cell_type": "code",
      "source": [
        "c='20'\n",
        "d='90'"
      ],
      "metadata": {
        "id": "F2AjPn4VLR8-"
      },
      "id": "F2AjPn4VLR8-",
      "execution_count": null,
      "outputs": []
    },
    {
      "cell_type": "code",
      "source": [
        "c+d"
      ],
      "metadata": {
        "id": "zLEeBsRtLWNp"
      },
      "id": "zLEeBsRtLWNp",
      "execution_count": null,
      "outputs": []
    },
    {
      "cell_type": "code",
      "source": [
        "e=90\n",
        "f='20'"
      ],
      "metadata": {
        "id": "xCfNcgoCLXZq"
      },
      "id": "xCfNcgoCLXZq",
      "execution_count": null,
      "outputs": []
    },
    {
      "cell_type": "code",
      "source": [
        "e+f"
      ],
      "metadata": {
        "id": "L3RbLgWILb__"
      },
      "id": "L3RbLgWILb__",
      "execution_count": null,
      "outputs": []
    },
    {
      "cell_type": "code",
      "source": [
        "a=10\n",
        "a\n",
        "print(a)"
      ],
      "metadata": {
        "id": "csfvUG9sLe5I"
      },
      "id": "csfvUG9sLe5I",
      "execution_count": null,
      "outputs": []
    },
    {
      "cell_type": "code",
      "source": [
        "a=10\n",
        "print(a)\n",
        "a"
      ],
      "metadata": {
        "id": "TPKf8JgvOgAl"
      },
      "id": "TPKf8JgvOgAl",
      "execution_count": null,
      "outputs": []
    },
    {
      "cell_type": "code",
      "source": [
        "b=90\n",
        "c=80\n",
        "d=70\n",
        "b\n",
        "c\n",
        "d"
      ],
      "metadata": {
        "id": "vo4apdnSOlsh"
      },
      "id": "vo4apdnSOlsh",
      "execution_count": null,
      "outputs": []
    },
    {
      "cell_type": "code",
      "source": [
        "b=90\n",
        "c=80\n",
        "d=70\n",
        "print(b)\n",
        "print(c)\n",
        "print(d)"
      ],
      "metadata": {
        "id": "ZmV52MJIOwCy"
      },
      "id": "ZmV52MJIOwCy",
      "execution_count": null,
      "outputs": []
    },
    {
      "cell_type": "code",
      "source": [
        "# static\n",
        "a=90\n",
        "b=20\n",
        "print(a+b)"
      ],
      "metadata": {
        "id": "k4V8XiZ_O4VL"
      },
      "id": "k4V8XiZ_O4VL",
      "execution_count": null,
      "outputs": []
    },
    {
      "cell_type": "code",
      "source": [
        "# dynamic----> by default it will accept only string values\n",
        "# how do i solve this? ----> typecasting\n",
        "a=input()\n",
        "b=input()\n",
        "print(a+b)"
      ],
      "metadata": {
        "id": "ke4QyUBRR7Gh"
      },
      "id": "ke4QyUBRR7Gh",
      "execution_count": null,
      "outputs": []
    },
    {
      "cell_type": "code",
      "source": [
        "type(a)"
      ],
      "metadata": {
        "id": "I5Uzmg5ySE6e"
      },
      "id": "I5Uzmg5ySE6e",
      "execution_count": null,
      "outputs": []
    },
    {
      "cell_type": "code",
      "source": [
        "type(b)"
      ],
      "metadata": {
        "id": "45g0z5Z3SXn6"
      },
      "id": "45g0z5Z3SXn6",
      "execution_count": null,
      "outputs": []
    },
    {
      "cell_type": "code",
      "source": [
        "a=int(input(\"enter value for a \"))\n",
        "b=int(input(\"enter value for b \"))\n",
        "print(\"the output is \",a+b)"
      ],
      "metadata": {
        "id": "DrAPCjzlSYia"
      },
      "id": "DrAPCjzlSYia",
      "execution_count": null,
      "outputs": []
    },
    {
      "cell_type": "code",
      "source": [
        "a=10\n",
        "b=20\n",
        "print(a+b)\n"
      ],
      "metadata": {
        "id": "_-WIVVPuStTq"
      },
      "id": "_-WIVVPuStTq",
      "execution_count": null,
      "outputs": []
    },
    {
      "cell_type": "code",
      "source": [
        "# craete a code for calculator\n",
        "\n",
        "# 3 minutes --> 46\n",
        "\n",
        "# hi welcome Nia\n",
        "# enter your 1st number = 20\n",
        "# enter your 2nd number = 40\n",
        "# your sum = 60\n",
        "# difference is = -20\n",
        "# product is = 20*40\n",
        "# division = 20/40\n",
        "# thankyou for your time Nia\n",
        "\n",
        "name=input(\"Enter your name- \")\n",
        "print(\"Hi welcome \",name)\n",
        "\n",
        "a=int(input(\"enter your 1st number- \"))\n",
        "b=int(input(\"enter your 2nd number- \"))\n",
        "print(\"addition is- \",a+b)\n",
        "print('subraction is- ',a-b)\n",
        "print(\"multiplication is- \",a*b)\n",
        "print('division is- ',a/b)\n",
        "print(\"Thankyou for your time \",name)"
      ],
      "metadata": {
        "id": "YklESZyITrKA"
      },
      "id": "YklESZyITrKA",
      "execution_count": null,
      "outputs": []
    },
    {
      "cell_type": "code",
      "source": [
        "# assigning name\n",
        "name =input('Enter your name:')\n",
        "# printng name\n",
        "print(\"Hi Welcome:\", name)\n",
        "a=int(input('enter your first number'))\n",
        "b=int(input('enter your second number'))\n",
        "print('Your sum =',a+b)\n",
        "print('substraction', a-b)\n",
        "print('product is', a*b)\n",
        "print('division is', a/b)\n",
        "print('Thank you for your time', name)\n"
      ],
      "metadata": {
        "id": "6Yz71iIkXstq"
      },
      "id": "6Yz71iIkXstq",
      "execution_count": null,
      "outputs": []
    },
    {
      "cell_type": "markdown",
      "source": [
        "# day2"
      ],
      "metadata": {
        "id": "bdUr21nRJcUr"
      },
      "id": "bdUr21nRJcUr"
    },
    {
      "cell_type": "code",
      "source": [
        "# this is for cmmenting zxdfghjkledgjdgleueubd --> you will not gett an error\n",
        "# print \"hi\"\n",
        "# print(\"hi\")\n",
        "# hi\n",
        "# 'hi'\n",
        "# \"hi\"\n",
        "# type()"
      ],
      "metadata": {
        "id": "AwfKnuMvZWsr"
      },
      "id": "AwfKnuMvZWsr",
      "execution_count": null,
      "outputs": []
    },
    {
      "cell_type": "code",
      "source": [
        "a=10\n",
        "type(a\n",
        "     )"
      ],
      "metadata": {
        "colab": {
          "base_uri": "https://localhost:8080/"
        },
        "id": "Dh1IQ_5BKoKl",
        "outputId": "2fa94d03-123b-42c6-995b-619c6ce1ab9a"
      },
      "id": "Dh1IQ_5BKoKl",
      "execution_count": null,
      "outputs": [
        {
          "output_type": "execute_result",
          "data": {
            "text/plain": [
              "int"
            ]
          },
          "metadata": {},
          "execution_count": 14
        }
      ]
    },
    {
      "cell_type": "code",
      "source": [
        "a='hello'\n",
        "type(a)"
      ],
      "metadata": {
        "colab": {
          "base_uri": "https://localhost:8080/"
        },
        "id": "uCMJv0xbKpli",
        "outputId": "af304b21-fa72-4904-e058-1e0602e0d68a"
      },
      "id": "uCMJv0xbKpli",
      "execution_count": null,
      "outputs": [
        {
          "output_type": "execute_result",
          "data": {
            "text/plain": [
              "str"
            ]
          },
          "metadata": {},
          "execution_count": 15
        }
      ]
    },
    {
      "cell_type": "markdown",
      "source": [
        "## datatypes\n",
        "\n",
        "- type of your data\n",
        "- a=10 ---> int\n",
        "- a=10,20-> --- (one or more values to your variable at a time"
      ],
      "metadata": {
        "id": "4lPt_BihMlLb"
      },
      "id": "4lPt_BihMlLb"
    },
    {
      "cell_type": "code",
      "source": [
        "# Advance datatypes\n",
        "# 1. mutable (you can change the values after a value is assigned)\n",
        "# 2. immutable (you cannot assign/update/delete a value after its assigned)"
      ],
      "metadata": {
        "id": "oMMdj1sjKrlj"
      },
      "id": "oMMdj1sjKrlj",
      "execution_count": null,
      "outputs": []
    },
    {
      "cell_type": "markdown",
      "source": [
        "### mutable datatype\n",
        "1. list []\n",
        "3. dictionary {key:value}\n",
        "2. set {}\n",
        "\n",
        "### immutable\n",
        "1. tuple ()\n",
        "2. string 'hi'/\"hi\""
      ],
      "metadata": {
        "id": "7_0QfaJ3N_BO"
      },
      "id": "7_0QfaJ3N_BO"
    },
    {
      "cell_type": "markdown",
      "source": [
        "####list\n",
        "- mutable datatype\n",
        "- create a list using [ ]\n",
        "- list can accept heterogenous data\n",
        "- apple , mango, banana, melon----> heterogenous\n",
        "- apple,apple,apple,apple---------> homogenus\n",
        "- apple, cat, mango, bird--> heterogenous\n",
        "- cat, dog, lion,cow---> homo\n",
        "- int,float,str,bool ---> everything in 1 single list"
      ],
      "metadata": {
        "id": "PHY_ccpbPP2L"
      },
      "id": "PHY_ccpbPP2L"
    },
    {
      "cell_type": "code",
      "source": [
        "l=['apple',123,True,'Nia',14.56]"
      ],
      "metadata": {
        "id": "gIZCU_Z_N7wZ"
      },
      "id": "gIZCU_Z_N7wZ",
      "execution_count": null,
      "outputs": []
    },
    {
      "cell_type": "code",
      "source": [
        "# string,int,bool,str,float"
      ],
      "metadata": {
        "id": "v-62FKNsQz9o"
      },
      "id": "v-62FKNsQz9o",
      "execution_count": null,
      "outputs": []
    },
    {
      "cell_type": "markdown",
      "source": [
        "- indexing --> extracting 1 element from the entire list\n",
        "- slicing----> extracting a subset from the list"
      ],
      "metadata": {
        "id": "t8MShDYwUNwM"
      },
      "id": "t8MShDYwUNwM"
    },
    {
      "cell_type": "code",
      "source": [
        "l"
      ],
      "metadata": {
        "colab": {
          "base_uri": "https://localhost:8080/"
        },
        "id": "6Sxq1CMIQ5cz",
        "outputId": "2355cd61-babd-4fbf-917d-0adb68ea1721"
      },
      "id": "6Sxq1CMIQ5cz",
      "execution_count": null,
      "outputs": [
        {
          "output_type": "execute_result",
          "data": {
            "text/plain": [
              "['apple', 123, True, 'Nia', 14.56]"
            ]
          },
          "metadata": {},
          "execution_count": 19
        }
      ]
    },
    {
      "cell_type": "code",
      "source": [
        "type(l)"
      ],
      "metadata": {
        "colab": {
          "base_uri": "https://localhost:8080/"
        },
        "id": "Xrr7yTwjUdgj",
        "outputId": "094fc4e0-835d-42ca-cefa-a05129035f3e"
      },
      "id": "Xrr7yTwjUdgj",
      "execution_count": null,
      "outputs": [
        {
          "output_type": "execute_result",
          "data": {
            "text/plain": [
              "list"
            ]
          },
          "metadata": {},
          "execution_count": 20
        }
      ]
    },
    {
      "cell_type": "code",
      "source": [
        "#   -5     -4    -3    -2    -1 -------> reverse indexes\n",
        "# 'apple', 123, True, 'Nia', 14.56\n",
        "#   0       1    2      3     4 --------> simple indexes"
      ],
      "metadata": {
        "id": "rJCPLuTfUfnG"
      },
      "id": "rJCPLuTfUfnG",
      "execution_count": null,
      "outputs": []
    },
    {
      "cell_type": "code",
      "source": [
        "# list_name[index_number]---> syntax"
      ],
      "metadata": {
        "id": "2ZMhE76oUxVu"
      },
      "id": "2ZMhE76oUxVu",
      "execution_count": null,
      "outputs": []
    },
    {
      "cell_type": "code",
      "source": [
        "l[3]"
      ],
      "metadata": {
        "colab": {
          "base_uri": "https://localhost:8080/",
          "height": 36
        },
        "id": "lQh0OGwyVpPV",
        "outputId": "62a88d64-0b9f-43db-de15-7c395b9d438b"
      },
      "id": "lQh0OGwyVpPV",
      "execution_count": null,
      "outputs": [
        {
          "output_type": "execute_result",
          "data": {
            "text/plain": [
              "'Nia'"
            ],
            "application/vnd.google.colaboratory.intrinsic+json": {
              "type": "string"
            }
          },
          "metadata": {},
          "execution_count": 23
        }
      ]
    },
    {
      "cell_type": "code",
      "source": [
        "l[-2]"
      ],
      "metadata": {
        "colab": {
          "base_uri": "https://localhost:8080/",
          "height": 36
        },
        "id": "rNk9oW-SVvhg",
        "outputId": "7548f8e1-5cd2-4843-e41f-add48069683a"
      },
      "id": "rNk9oW-SVvhg",
      "execution_count": null,
      "outputs": [
        {
          "output_type": "execute_result",
          "data": {
            "text/plain": [
              "'Nia'"
            ],
            "application/vnd.google.colaboratory.intrinsic+json": {
              "type": "string"
            }
          },
          "metadata": {},
          "execution_count": 24
        }
      ]
    },
    {
      "cell_type": "code",
      "source": [
        "l[-1]"
      ],
      "metadata": {
        "colab": {
          "base_uri": "https://localhost:8080/"
        },
        "id": "pQ7IFqdfVwvs",
        "outputId": "6d150611-ec2f-4e08-c434-c429c1de9709"
      },
      "id": "pQ7IFqdfVwvs",
      "execution_count": null,
      "outputs": [
        {
          "output_type": "execute_result",
          "data": {
            "text/plain": [
              "14.56"
            ]
          },
          "metadata": {},
          "execution_count": 25
        }
      ]
    },
    {
      "cell_type": "code",
      "source": [
        "l[len(l)-1]"
      ],
      "metadata": {
        "colab": {
          "base_uri": "https://localhost:8080/"
        },
        "id": "HTw-8C3rWvqE",
        "outputId": "3127cb10-587a-40e9-eb4b-62f3acdb4ae0"
      },
      "id": "HTw-8C3rWvqE",
      "execution_count": null,
      "outputs": [
        {
          "output_type": "execute_result",
          "data": {
            "text/plain": [
              "14.56"
            ]
          },
          "metadata": {},
          "execution_count": 26
        }
      ]
    },
    {
      "cell_type": "code",
      "source": [
        "l[5-1]"
      ],
      "metadata": {
        "colab": {
          "base_uri": "https://localhost:8080/"
        },
        "id": "GR-I34vyXJwD",
        "outputId": "7c70f3c4-44e2-4797-a7f5-0ef934743967"
      },
      "id": "GR-I34vyXJwD",
      "execution_count": null,
      "outputs": [
        {
          "output_type": "execute_result",
          "data": {
            "text/plain": [
              "14.56"
            ]
          },
          "metadata": {},
          "execution_count": 27
        }
      ]
    },
    {
      "cell_type": "code",
      "source": [
        "l[-1]"
      ],
      "metadata": {
        "colab": {
          "base_uri": "https://localhost:8080/"
        },
        "id": "HR-YLFp7W4bg",
        "outputId": "6ce4263c-8e66-4c0f-b68d-0135a058b656"
      },
      "id": "HR-YLFp7W4bg",
      "execution_count": null,
      "outputs": [
        {
          "output_type": "execute_result",
          "data": {
            "text/plain": [
              "14.56"
            ]
          },
          "metadata": {},
          "execution_count": 28
        }
      ]
    },
    {
      "cell_type": "code",
      "source": [
        "l[4]"
      ],
      "metadata": {
        "colab": {
          "base_uri": "https://localhost:8080/"
        },
        "id": "GPdQKT4EW7kl",
        "outputId": "dc550840-88d8-4d1d-ce93-ce487caba420"
      },
      "id": "GPdQKT4EW7kl",
      "execution_count": null,
      "outputs": [
        {
          "output_type": "execute_result",
          "data": {
            "text/plain": [
              "14.56"
            ]
          },
          "metadata": {},
          "execution_count": 29
        }
      ]
    },
    {
      "cell_type": "code",
      "source": [
        "len(l)"
      ],
      "metadata": {
        "colab": {
          "base_uri": "https://localhost:8080/"
        },
        "id": "A62bV-8uW8xk",
        "outputId": "78339c80-e9c3-4ca1-87ca-a5b32cc30843"
      },
      "id": "A62bV-8uW8xk",
      "execution_count": null,
      "outputs": [
        {
          "output_type": "execute_result",
          "data": {
            "text/plain": [
              "5"
            ]
          },
          "metadata": {},
          "execution_count": 30
        }
      ]
    },
    {
      "cell_type": "code",
      "source": [
        "l"
      ],
      "metadata": {
        "colab": {
          "base_uri": "https://localhost:8080/"
        },
        "id": "hELTCBemXAiG",
        "outputId": "428c8b83-5c17-4da2-c0e6-c4044e24af45"
      },
      "id": "hELTCBemXAiG",
      "execution_count": null,
      "outputs": [
        {
          "output_type": "execute_result",
          "data": {
            "text/plain": [
              "['apple', 123, True, 'Nia', 14.56]"
            ]
          },
          "metadata": {},
          "execution_count": 31
        }
      ]
    },
    {
      "cell_type": "code",
      "source": [
        "#   -5     -4    -3    -2    -1 -------> reverse indexes\n",
        "# 'apple', 123, True, 'Nia', 14.56\n",
        "#   0       1    2      3     4 --------> simple indexes"
      ],
      "metadata": {
        "id": "5ym2TDAQXA0B"
      },
      "id": "5ym2TDAQXA0B",
      "execution_count": null,
      "outputs": []
    },
    {
      "cell_type": "code",
      "source": [
        "l[1]"
      ],
      "metadata": {
        "colab": {
          "base_uri": "https://localhost:8080/"
        },
        "id": "9w8k6IRKYZyr",
        "outputId": "ec5267f2-0e68-442a-aec3-8d9e89d922f7"
      },
      "id": "9w8k6IRKYZyr",
      "execution_count": null,
      "outputs": [
        {
          "output_type": "execute_result",
          "data": {
            "text/plain": [
              "123"
            ]
          },
          "metadata": {},
          "execution_count": 33
        }
      ]
    },
    {
      "cell_type": "code",
      "source": [
        "# slicing\n",
        "# name[strt_index:end+1_index]\n",
        "\n",
        "# a+b"
      ],
      "metadata": {
        "id": "qG6m1k-YYdKP"
      },
      "id": "qG6m1k-YYdKP",
      "execution_count": null,
      "outputs": []
    },
    {
      "cell_type": "code",
      "source": [
        "l"
      ],
      "metadata": {
        "colab": {
          "base_uri": "https://localhost:8080/"
        },
        "id": "qyh0LJk1ZAjC",
        "outputId": "34182385-4ec1-4869-8354-d271081d9df4"
      },
      "id": "qyh0LJk1ZAjC",
      "execution_count": null,
      "outputs": [
        {
          "output_type": "execute_result",
          "data": {
            "text/plain": [
              "['apple', 123, True, 'Nia', 14.56]"
            ]
          },
          "metadata": {},
          "execution_count": 35
        }
      ]
    },
    {
      "cell_type": "code",
      "source": [
        "#   -5     -4    -3    -2    -1 -------> reverse indexes\n",
        "# 'apple', 123, True, 'Nia', 14.56\n",
        "#   0       1    2      3     4 --------> simple indexes"
      ],
      "metadata": {
        "id": "O8WRiv4OY-In"
      },
      "id": "O8WRiv4OY-In",
      "execution_count": null,
      "outputs": []
    },
    {
      "cell_type": "code",
      "source": [
        "l[1:2+1]"
      ],
      "metadata": {
        "colab": {
          "base_uri": "https://localhost:8080/"
        },
        "id": "KfSAHNayYndq",
        "outputId": "b8557411-e4f6-4223-9099-3159f9b5ae98"
      },
      "id": "KfSAHNayYndq",
      "execution_count": null,
      "outputs": [
        {
          "output_type": "execute_result",
          "data": {
            "text/plain": [
              "[123, True]"
            ]
          },
          "metadata": {},
          "execution_count": 37
        }
      ]
    },
    {
      "cell_type": "code",
      "source": [
        "l[1:3]"
      ],
      "metadata": {
        "colab": {
          "base_uri": "https://localhost:8080/"
        },
        "id": "MoP0_L7cY0jb",
        "outputId": "56341686-2bdf-4fb5-f4f0-f1a746a98753"
      },
      "id": "MoP0_L7cY0jb",
      "execution_count": null,
      "outputs": [
        {
          "output_type": "execute_result",
          "data": {
            "text/plain": [
              "[123, True]"
            ]
          },
          "metadata": {},
          "execution_count": 38
        }
      ]
    },
    {
      "cell_type": "code",
      "source": [
        "l[-4:-2]"
      ],
      "metadata": {
        "colab": {
          "base_uri": "https://localhost:8080/"
        },
        "id": "stmFSm8SZoqP",
        "outputId": "f3e36757-d54a-4a9e-91cf-efca8f0d7ae9"
      },
      "id": "stmFSm8SZoqP",
      "execution_count": null,
      "outputs": [
        {
          "output_type": "execute_result",
          "data": {
            "text/plain": [
              "[123, True]"
            ]
          },
          "metadata": {},
          "execution_count": 39
        }
      ]
    },
    {
      "cell_type": "code",
      "source": [
        "l.index(True)"
      ],
      "metadata": {
        "colab": {
          "base_uri": "https://localhost:8080/"
        },
        "id": "c4F569vDaA1E",
        "outputId": "c9754291-ef8f-4b6e-9991-494062131b3b"
      },
      "id": "c4F569vDaA1E",
      "execution_count": null,
      "outputs": [
        {
          "output_type": "execute_result",
          "data": {
            "text/plain": [
              "2"
            ]
          },
          "metadata": {},
          "execution_count": 40
        }
      ]
    },
    {
      "cell_type": "code",
      "source": [
        "#   -5     -4    -3    -2    -1 -------> reverse indexes\n",
        "# 'apple', 123, True, 'Nia', 14.56\n",
        "#   0       1    2      3     4 --------> simple indexes"
      ],
      "metadata": {
        "id": "pTMabOzsaGLk"
      },
      "id": "pTMabOzsaGLk",
      "execution_count": null,
      "outputs": []
    },
    {
      "cell_type": "code",
      "source": [
        "l[-4:]"
      ],
      "metadata": {
        "colab": {
          "base_uri": "https://localhost:8080/"
        },
        "id": "ycaWaUX2bcxI",
        "outputId": "9594c516-6501-435e-b05e-42a4f7acf330"
      },
      "id": "ycaWaUX2bcxI",
      "execution_count": null,
      "outputs": [
        {
          "output_type": "execute_result",
          "data": {
            "text/plain": [
              "[123, True, 'Nia', 14.56]"
            ]
          },
          "metadata": {},
          "execution_count": 42
        }
      ]
    },
    {
      "cell_type": "code",
      "source": [
        "l[-4:0]"
      ],
      "metadata": {
        "colab": {
          "base_uri": "https://localhost:8080/"
        },
        "id": "HBz0mat-aP4U",
        "outputId": "b60eb6d8-bad3-448b-f3b6-09ce74bf5662"
      },
      "id": "HBz0mat-aP4U",
      "execution_count": null,
      "outputs": [
        {
          "output_type": "execute_result",
          "data": {
            "text/plain": [
              "[]"
            ]
          },
          "metadata": {},
          "execution_count": 43
        }
      ]
    },
    {
      "cell_type": "code",
      "source": [
        "l[-4:3]"
      ],
      "metadata": {
        "colab": {
          "base_uri": "https://localhost:8080/"
        },
        "id": "EUYcyB3RaUWE",
        "outputId": "bfc76ece-b98e-4353-90cf-39ef8bc27536"
      },
      "id": "EUYcyB3RaUWE",
      "execution_count": null,
      "outputs": [
        {
          "output_type": "execute_result",
          "data": {
            "text/plain": [
              "[123, True]"
            ]
          },
          "metadata": {},
          "execution_count": 44
        }
      ]
    },
    {
      "cell_type": "code",
      "source": [
        "# functions --> int(),float(),list(),print()\n",
        "# int[] wrong\n",
        "\n",
        "# indexes ---> []"
      ],
      "metadata": {
        "id": "tqoR0aU1adq7"
      },
      "id": "tqoR0aU1adq7",
      "execution_count": null,
      "outputs": []
    },
    {
      "cell_type": "code",
      "source": [
        "l[-4:0]"
      ],
      "metadata": {
        "colab": {
          "base_uri": "https://localhost:8080/"
        },
        "id": "goUL6QB9a_Gf",
        "outputId": "3d90306e-7f67-4476-9512-4675f2bcf8a5"
      },
      "id": "goUL6QB9a_Gf",
      "execution_count": null,
      "outputs": [
        {
          "output_type": "execute_result",
          "data": {
            "text/plain": [
              "[]"
            ]
          },
          "metadata": {},
          "execution_count": 46
        }
      ]
    },
    {
      "cell_type": "code",
      "source": [
        "#   -5     -4    -3    -2    -1 -------> reverse indexes\n",
        "# 'apple', 123, True, 'Nia', 14.56\n",
        "#   0       1    2      3     4 --------> simple indexes"
      ],
      "metadata": {
        "id": "SCGsaUGMbBl0"
      },
      "id": "SCGsaUGMbBl0",
      "execution_count": null,
      "outputs": []
    },
    {
      "cell_type": "code",
      "source": [
        "l[-4:3]"
      ],
      "metadata": {
        "colab": {
          "base_uri": "https://localhost:8080/"
        },
        "id": "jRm2CxcNbjDm",
        "outputId": "304e8559-c5f2-482d-b437-71da6828c508"
      },
      "id": "jRm2CxcNbjDm",
      "execution_count": null,
      "outputs": [
        {
          "output_type": "execute_result",
          "data": {
            "text/plain": [
              "[123, True]"
            ]
          },
          "metadata": {},
          "execution_count": 48
        }
      ]
    },
    {
      "cell_type": "code",
      "source": [
        "l[-4:2+1]"
      ],
      "metadata": {
        "colab": {
          "base_uri": "https://localhost:8080/"
        },
        "id": "XgOwZ8kTbk3X",
        "outputId": "bab2d684-eb3f-4898-ba26-5d30a0b133f6"
      },
      "id": "XgOwZ8kTbk3X",
      "execution_count": null,
      "outputs": [
        {
          "output_type": "execute_result",
          "data": {
            "text/plain": [
              "[123, True]"
            ]
          },
          "metadata": {},
          "execution_count": 49
        }
      ]
    },
    {
      "cell_type": "code",
      "source": [
        "l[:5]\n",
        "# by default it is taking starting as 0"
      ],
      "metadata": {
        "colab": {
          "base_uri": "https://localhost:8080/"
        },
        "id": "rINH5tV4booY",
        "outputId": "4eff81c0-d874-4c29-9b23-2d0c7e790c25"
      },
      "id": "rINH5tV4booY",
      "execution_count": null,
      "outputs": [
        {
          "output_type": "execute_result",
          "data": {
            "text/plain": [
              "['apple', 123, True, 'Nia', 14.56]"
            ]
          },
          "metadata": {},
          "execution_count": 50
        }
      ]
    },
    {
      "cell_type": "code",
      "source": [
        "l[0:]"
      ],
      "metadata": {
        "colab": {
          "base_uri": "https://localhost:8080/"
        },
        "id": "VFG7BJHIb9eN",
        "outputId": "50200da8-7fdc-4801-b04b-ba01294921a5"
      },
      "id": "VFG7BJHIb9eN",
      "execution_count": null,
      "outputs": [
        {
          "output_type": "execute_result",
          "data": {
            "text/plain": [
              "['apple', 123, True, 'Nia', 14.56]"
            ]
          },
          "metadata": {},
          "execution_count": 51
        }
      ]
    },
    {
      "cell_type": "code",
      "source": [
        "l[:]"
      ],
      "metadata": {
        "colab": {
          "base_uri": "https://localhost:8080/"
        },
        "id": "XKf-qG_4cCg0",
        "outputId": "da723ab9-c900-484f-b9a3-df5ffaf703a2"
      },
      "id": "XKf-qG_4cCg0",
      "execution_count": null,
      "outputs": [
        {
          "output_type": "execute_result",
          "data": {
            "text/plain": [
              "['apple', 123, True, 'Nia', 14.56]"
            ]
          },
          "metadata": {},
          "execution_count": 52
        }
      ]
    },
    {
      "cell_type": "code",
      "source": [
        "l[0]"
      ],
      "metadata": {
        "colab": {
          "base_uri": "https://localhost:8080/",
          "height": 36
        },
        "id": "h3kchPqMcSxh",
        "outputId": "4199ee52-2e52-45b6-cf8f-081dc9791edd"
      },
      "id": "h3kchPqMcSxh",
      "execution_count": null,
      "outputs": [
        {
          "output_type": "execute_result",
          "data": {
            "text/plain": [
              "'apple'"
            ],
            "application/vnd.google.colaboratory.intrinsic+json": {
              "type": "string"
            }
          },
          "metadata": {},
          "execution_count": 53
        }
      ]
    },
    {
      "cell_type": "code",
      "source": [
        "l"
      ],
      "metadata": {
        "colab": {
          "base_uri": "https://localhost:8080/"
        },
        "id": "AcG8QuWscWYh",
        "outputId": "a7c5ed4a-518a-4952-8da3-0c41ed0df0bc"
      },
      "id": "AcG8QuWscWYh",
      "execution_count": null,
      "outputs": [
        {
          "output_type": "execute_result",
          "data": {
            "text/plain": [
              "['apple', 123, True, 'Nia', 14.56]"
            ]
          },
          "metadata": {},
          "execution_count": 54
        }
      ]
    },
    {
      "cell_type": "code",
      "source": [
        "l[0]"
      ],
      "metadata": {
        "colab": {
          "base_uri": "https://localhost:8080/",
          "height": 36
        },
        "id": "Dmt75CihdDy4",
        "outputId": "e79a079d-90f7-4903-99d8-2d10d56bbdb7"
      },
      "id": "Dmt75CihdDy4",
      "execution_count": null,
      "outputs": [
        {
          "output_type": "execute_result",
          "data": {
            "text/plain": [
              "'apple'"
            ],
            "application/vnd.google.colaboratory.intrinsic+json": {
              "type": "string"
            }
          },
          "metadata": {},
          "execution_count": 55
        }
      ]
    },
    {
      "cell_type": "code",
      "source": [
        "l[0][3]"
      ],
      "metadata": {
        "colab": {
          "base_uri": "https://localhost:8080/",
          "height": 36
        },
        "id": "J3GJLb_rdFcD",
        "outputId": "ee89d937-b5fc-4e1a-8a1b-9d04cc7a634e"
      },
      "id": "J3GJLb_rdFcD",
      "execution_count": null,
      "outputs": [
        {
          "output_type": "execute_result",
          "data": {
            "text/plain": [
              "'l'"
            ],
            "application/vnd.google.colaboratory.intrinsic+json": {
              "type": "string"
            }
          },
          "metadata": {},
          "execution_count": 56
        }
      ]
    },
    {
      "cell_type": "code",
      "source": [
        "l"
      ],
      "metadata": {
        "colab": {
          "base_uri": "https://localhost:8080/"
        },
        "id": "nCUkm0HDdJ0I",
        "outputId": "f79ee513-4f6e-46c8-cc52-b15ed0faa2af"
      },
      "id": "nCUkm0HDdJ0I",
      "execution_count": null,
      "outputs": [
        {
          "output_type": "execute_result",
          "data": {
            "text/plain": [
              "['apple', 123, True, 'Nia', 14.56]"
            ]
          },
          "metadata": {},
          "execution_count": 57
        }
      ]
    },
    {
      "cell_type": "code",
      "source": [
        "l[0][3]"
      ],
      "metadata": {
        "colab": {
          "base_uri": "https://localhost:8080/",
          "height": 36
        },
        "id": "7An5QmfAdQl6",
        "outputId": "6636e07f-8245-49d9-b55d-4a7ca4b4457e"
      },
      "id": "7An5QmfAdQl6",
      "execution_count": null,
      "outputs": [
        {
          "output_type": "execute_result",
          "data": {
            "text/plain": [
              "'l'"
            ],
            "application/vnd.google.colaboratory.intrinsic+json": {
              "type": "string"
            }
          },
          "metadata": {},
          "execution_count": 58
        }
      ]
    },
    {
      "cell_type": "code",
      "source": [
        "l[0][-2]"
      ],
      "metadata": {
        "colab": {
          "base_uri": "https://localhost:8080/",
          "height": 36
        },
        "id": "L3PY-bBydXW7",
        "outputId": "181bafbb-59eb-4bcf-fc79-44ce3b907091"
      },
      "id": "L3PY-bBydXW7",
      "execution_count": null,
      "outputs": [
        {
          "output_type": "execute_result",
          "data": {
            "text/plain": [
              "'l'"
            ],
            "application/vnd.google.colaboratory.intrinsic+json": {
              "type": "string"
            }
          },
          "metadata": {},
          "execution_count": 59
        }
      ]
    },
    {
      "cell_type": "code",
      "source": [
        "#  a  p p l e\n",
        "#  0  1 2 3 4\n",
        "# -5 -4-3-2-1"
      ],
      "metadata": {
        "id": "aVt7L64odymL"
      },
      "id": "aVt7L64odymL",
      "execution_count": null,
      "outputs": []
    },
    {
      "cell_type": "code",
      "source": [
        "l[0][3:]"
      ],
      "metadata": {
        "colab": {
          "base_uri": "https://localhost:8080/",
          "height": 36
        },
        "id": "k_mwCBMneQ1F",
        "outputId": "e0645cf6-2be3-4875-fbc5-349fb5bd939a"
      },
      "id": "k_mwCBMneQ1F",
      "execution_count": null,
      "outputs": [
        {
          "output_type": "execute_result",
          "data": {
            "text/plain": [
              "'le'"
            ],
            "application/vnd.google.colaboratory.intrinsic+json": {
              "type": "string"
            }
          },
          "metadata": {},
          "execution_count": 61
        }
      ]
    },
    {
      "cell_type": "code",
      "source": [
        "l[0][3:4+1]"
      ],
      "metadata": {
        "colab": {
          "base_uri": "https://localhost:8080/",
          "height": 36
        },
        "id": "CSbxOGu8fA4H",
        "outputId": "e856426c-70c4-4c48-8ceb-1615cdf28b4e"
      },
      "id": "CSbxOGu8fA4H",
      "execution_count": null,
      "outputs": [
        {
          "output_type": "execute_result",
          "data": {
            "text/plain": [
              "'le'"
            ],
            "application/vnd.google.colaboratory.intrinsic+json": {
              "type": "string"
            }
          },
          "metadata": {},
          "execution_count": 62
        }
      ]
    },
    {
      "cell_type": "code",
      "source": [
        "l[-5][-2:]"
      ],
      "metadata": {
        "colab": {
          "base_uri": "https://localhost:8080/",
          "height": 36
        },
        "id": "lUjKPUl5fHne",
        "outputId": "f4f9ebd9-7f6e-4796-ed1a-04b24b3a4875"
      },
      "id": "lUjKPUl5fHne",
      "execution_count": null,
      "outputs": [
        {
          "output_type": "execute_result",
          "data": {
            "text/plain": [
              "'le'"
            ],
            "application/vnd.google.colaboratory.intrinsic+json": {
              "type": "string"
            }
          },
          "metadata": {},
          "execution_count": 63
        }
      ]
    },
    {
      "cell_type": "code",
      "source": [
        "l[0][-2:]"
      ],
      "metadata": {
        "colab": {
          "base_uri": "https://localhost:8080/",
          "height": 36
        },
        "id": "te5xUUW1fO2e",
        "outputId": "efd5d964-9b60-44a2-897f-14e6af18ddce"
      },
      "id": "te5xUUW1fO2e",
      "execution_count": null,
      "outputs": [
        {
          "output_type": "execute_result",
          "data": {
            "text/plain": [
              "'le'"
            ],
            "application/vnd.google.colaboratory.intrinsic+json": {
              "type": "string"
            }
          },
          "metadata": {},
          "execution_count": 64
        }
      ]
    },
    {
      "cell_type": "code",
      "source": [
        "l1=[12,'apple',['cat','hi',True]]"
      ],
      "metadata": {
        "id": "i0iOr7H1fRaL"
      },
      "id": "i0iOr7H1fRaL",
      "execution_count": null,
      "outputs": []
    },
    {
      "cell_type": "code",
      "source": [
        "l1"
      ],
      "metadata": {
        "colab": {
          "base_uri": "https://localhost:8080/"
        },
        "id": "-dESLlWsfhZ1",
        "outputId": "89cb5fb8-9cc2-45ec-9495-bab5e6e7d802"
      },
      "id": "-dESLlWsfhZ1",
      "execution_count": null,
      "outputs": [
        {
          "output_type": "execute_result",
          "data": {
            "text/plain": [
              "[12, 'apple', ['cat', 'hi', True]]"
            ]
          },
          "metadata": {},
          "execution_count": 66
        }
      ]
    },
    {
      "cell_type": "code",
      "source": [
        "l1[2]"
      ],
      "metadata": {
        "colab": {
          "base_uri": "https://localhost:8080/"
        },
        "id": "dVM4FDmvfh5f",
        "outputId": "4cc69859-0e10-42e5-fb5d-c674dac69033"
      },
      "id": "dVM4FDmvfh5f",
      "execution_count": null,
      "outputs": [
        {
          "output_type": "execute_result",
          "data": {
            "text/plain": [
              "['cat', 'hi', True]"
            ]
          },
          "metadata": {},
          "execution_count": 67
        }
      ]
    },
    {
      "cell_type": "code",
      "source": [
        "l1[2][0]"
      ],
      "metadata": {
        "colab": {
          "base_uri": "https://localhost:8080/",
          "height": 36
        },
        "id": "PeCKOw4zgRMk",
        "outputId": "7a369554-3be9-4c57-c7b9-4d0ecbd5217f"
      },
      "id": "PeCKOw4zgRMk",
      "execution_count": null,
      "outputs": [
        {
          "output_type": "execute_result",
          "data": {
            "text/plain": [
              "'cat'"
            ],
            "application/vnd.google.colaboratory.intrinsic+json": {
              "type": "string"
            }
          },
          "metadata": {},
          "execution_count": 68
        }
      ]
    },
    {
      "cell_type": "code",
      "source": [
        "l1[2][0][1]"
      ],
      "metadata": {
        "id": "Q4LVpKZQgYRj",
        "outputId": "3c29e5cb-240c-45b8-9c08-a32d2c8586de",
        "colab": {
          "base_uri": "https://localhost:8080/",
          "height": 36
        }
      },
      "id": "Q4LVpKZQgYRj",
      "execution_count": null,
      "outputs": [
        {
          "output_type": "execute_result",
          "data": {
            "text/plain": [
              "'a'"
            ],
            "application/vnd.google.colaboratory.intrinsic+json": {
              "type": "string"
            }
          },
          "metadata": {},
          "execution_count": 69
        }
      ]
    },
    {
      "cell_type": "code",
      "source": [
        "# insert delete and update list values"
      ],
      "metadata": {
        "id": "MTK9v_Z-gczM"
      },
      "id": "MTK9v_Z-gczM",
      "execution_count": null,
      "outputs": []
    },
    {
      "cell_type": "code",
      "source": [
        "l"
      ],
      "metadata": {
        "colab": {
          "base_uri": "https://localhost:8080/"
        },
        "id": "-WMTZs0wY3E9",
        "outputId": "47012b81-c4ed-40a3-de8a-1a7de2b46f24"
      },
      "id": "-WMTZs0wY3E9",
      "execution_count": null,
      "outputs": [
        {
          "output_type": "execute_result",
          "data": {
            "text/plain": [
              "['apple', 123, True, 'Nia', 14.56]"
            ]
          },
          "metadata": {},
          "execution_count": 71
        }
      ]
    },
    {
      "cell_type": "code",
      "source": [
        "# update my list----> apple --> cat"
      ],
      "metadata": {
        "id": "z_AkFCZvY9Os"
      },
      "id": "z_AkFCZvY9Os",
      "execution_count": null,
      "outputs": []
    },
    {
      "cell_type": "code",
      "source": [
        "l[0]='cat'"
      ],
      "metadata": {
        "id": "jtLb74n-ZJhc"
      },
      "id": "jtLb74n-ZJhc",
      "execution_count": null,
      "outputs": []
    },
    {
      "cell_type": "code",
      "source": [
        "l"
      ],
      "metadata": {
        "colab": {
          "base_uri": "https://localhost:8080/"
        },
        "id": "zpv95vtmZarr",
        "outputId": "6f2431c3-629a-42a6-e695-8032c91ac861"
      },
      "id": "zpv95vtmZarr",
      "execution_count": null,
      "outputs": [
        {
          "output_type": "execute_result",
          "data": {
            "text/plain": [
              "['cat', 123, True, 'Nia', 14.56]"
            ]
          },
          "metadata": {},
          "execution_count": 74
        }
      ]
    },
    {
      "cell_type": "code",
      "source": [
        "# insert"
      ],
      "metadata": {
        "id": "nDzDkcaZZdOD"
      },
      "id": "nDzDkcaZZdOD",
      "execution_count": null,
      "outputs": []
    },
    {
      "cell_type": "code",
      "source": [
        "l.insert(1,'dog')"
      ],
      "metadata": {
        "id": "4zoWhH0jZwh4"
      },
      "id": "4zoWhH0jZwh4",
      "execution_count": null,
      "outputs": []
    },
    {
      "cell_type": "code",
      "source": [
        "l"
      ],
      "metadata": {
        "colab": {
          "base_uri": "https://localhost:8080/"
        },
        "id": "srGR7X4yaJig",
        "outputId": "48a135c5-5713-4901-cc36-513d79571bca"
      },
      "id": "srGR7X4yaJig",
      "execution_count": null,
      "outputs": [
        {
          "output_type": "execute_result",
          "data": {
            "text/plain": [
              "['cat', 'dog', 123, True, 'Nia', 14.56]"
            ]
          },
          "metadata": {},
          "execution_count": 77
        }
      ]
    },
    {
      "cell_type": "code",
      "source": [
        "l.index(True)"
      ],
      "metadata": {
        "colab": {
          "base_uri": "https://localhost:8080/"
        },
        "id": "vRC9EUvkaJ8r",
        "outputId": "1a8b57df-7307-4317-a86e-2a1e5f114a76"
      },
      "id": "vRC9EUvkaJ8r",
      "execution_count": null,
      "outputs": [
        {
          "output_type": "execute_result",
          "data": {
            "text/plain": [
              "3"
            ]
          },
          "metadata": {},
          "execution_count": 78
        }
      ]
    },
    {
      "cell_type": "code",
      "source": [
        "# delete"
      ],
      "metadata": {
        "id": "khrtIrmxaWIz"
      },
      "id": "khrtIrmxaWIz",
      "execution_count": null,
      "outputs": []
    },
    {
      "cell_type": "code",
      "source": [
        "del l[1]"
      ],
      "metadata": {
        "id": "2sQfdDmQanZT"
      },
      "id": "2sQfdDmQanZT",
      "execution_count": null,
      "outputs": []
    },
    {
      "cell_type": "code",
      "source": [
        "l"
      ],
      "metadata": {
        "colab": {
          "base_uri": "https://localhost:8080/"
        },
        "id": "-0Nm4m1obGPu",
        "outputId": "63083fde-5226-453c-a2db-a095efbcb275"
      },
      "id": "-0Nm4m1obGPu",
      "execution_count": null,
      "outputs": [
        {
          "output_type": "execute_result",
          "data": {
            "text/plain": [
              "['cat', 123, True, 'Nia', 14.56]"
            ]
          },
          "metadata": {},
          "execution_count": 81
        }
      ]
    },
    {
      "cell_type": "code",
      "source": [
        "del l"
      ],
      "metadata": {
        "id": "lPk8tO04bHKl"
      },
      "id": "lPk8tO04bHKl",
      "execution_count": null,
      "outputs": []
    },
    {
      "cell_type": "code",
      "source": [
        "l"
      ],
      "metadata": {
        "colab": {
          "base_uri": "https://localhost:8080/",
          "height": 145
        },
        "id": "GE0chVuubRYa",
        "outputId": "43751102-9c49-440a-dd2b-5c979cceac82"
      },
      "id": "GE0chVuubRYa",
      "execution_count": null,
      "outputs": [
        {
          "output_type": "error",
          "ename": "NameError",
          "evalue": "name 'l' is not defined",
          "traceback": [
            "\u001b[0;31m---------------------------------------------------------------------------\u001b[0m",
            "\u001b[0;31mNameError\u001b[0m                                 Traceback (most recent call last)",
            "\u001b[0;32m<ipython-input-83-cde25b5e10ad>\u001b[0m in \u001b[0;36m<cell line: 1>\u001b[0;34m()\u001b[0m\n\u001b[0;32m----> 1\u001b[0;31m \u001b[0ml\u001b[0m\u001b[0;34m\u001b[0m\u001b[0;34m\u001b[0m\u001b[0m\n\u001b[0m",
            "\u001b[0;31mNameError\u001b[0m: name 'l' is not defined"
          ]
        }
      ]
    },
    {
      "cell_type": "code",
      "source": [
        "l=['cat', 123, True, 'Nia', 14.56]\n",
        "l"
      ],
      "metadata": {
        "id": "8qmNMb5GbR3l"
      },
      "id": "8qmNMb5GbR3l",
      "execution_count": null,
      "outputs": []
    },
    {
      "cell_type": "code",
      "source": [
        "l[0]='dog'"
      ],
      "metadata": {
        "id": "FKrglJUXble4"
      },
      "id": "FKrglJUXble4",
      "execution_count": null,
      "outputs": []
    },
    {
      "cell_type": "code",
      "source": [
        "l1=[12, 'apple', ['cat', 'hi', True]]"
      ],
      "metadata": {
        "id": "5qL4BbqwbqM5"
      },
      "id": "5qL4BbqwbqM5",
      "execution_count": null,
      "outputs": []
    },
    {
      "cell_type": "code",
      "source": [
        "l1"
      ],
      "metadata": {
        "id": "1CAFWFn2cII3"
      },
      "id": "1CAFWFn2cII3",
      "execution_count": null,
      "outputs": []
    },
    {
      "cell_type": "code",
      "source": [
        "l1[2][0]='dog'"
      ],
      "metadata": {
        "id": "mDTnn73ZcJ4L"
      },
      "id": "mDTnn73ZcJ4L",
      "execution_count": null,
      "outputs": []
    },
    {
      "cell_type": "code",
      "source": [
        "l1"
      ],
      "metadata": {
        "id": "cXXsvfn4cN9J"
      },
      "id": "cXXsvfn4cN9J",
      "execution_count": null,
      "outputs": []
    },
    {
      "cell_type": "code",
      "source": [
        "l=l+[9,0,5,6]"
      ],
      "metadata": {
        "id": "zPy6IOP3cQBT"
      },
      "id": "zPy6IOP3cQBT",
      "execution_count": null,
      "outputs": []
    },
    {
      "cell_type": "code",
      "source": [
        "l"
      ],
      "metadata": {
        "id": "TNlAUqHweLXf"
      },
      "id": "TNlAUqHweLXf",
      "execution_count": null,
      "outputs": []
    },
    {
      "cell_type": "code",
      "source": [
        "l1"
      ],
      "metadata": {
        "id": "uSSH7ko_coZV"
      },
      "id": "uSSH7ko_coZV",
      "execution_count": null,
      "outputs": []
    },
    {
      "cell_type": "code",
      "source": [
        "l1[2].index('dog')"
      ],
      "metadata": {
        "id": "j-pJeJpOczN7"
      },
      "id": "j-pJeJpOczN7",
      "execution_count": null,
      "outputs": []
    },
    {
      "cell_type": "code",
      "source": [],
      "metadata": {
        "id": "VY4OKGOzc4Vc"
      },
      "id": "VY4OKGOzc4Vc",
      "execution_count": null,
      "outputs": []
    },
    {
      "cell_type": "code",
      "source": [
        "l"
      ],
      "metadata": {
        "id": "FfFtuovTdyrH"
      },
      "id": "FfFtuovTdyrH",
      "execution_count": null,
      "outputs": []
    },
    {
      "cell_type": "code",
      "source": [
        "l=l+['abc']"
      ],
      "metadata": {
        "id": "q6mxPyUnd0on"
      },
      "id": "q6mxPyUnd0on",
      "execution_count": null,
      "outputs": []
    },
    {
      "cell_type": "code",
      "source": [
        "l"
      ],
      "metadata": {
        "id": "Kmf_I19Jd6bZ"
      },
      "id": "Kmf_I19Jd6bZ",
      "execution_count": null,
      "outputs": []
    },
    {
      "cell_type": "markdown",
      "source": [
        "###dictrionary"
      ],
      "metadata": {
        "id": "k88T4EDweOX_"
      },
      "id": "k88T4EDweOX_"
    },
    {
      "cell_type": "code",
      "source": [
        "d={'apple':100,'mango':120,'grapes':70}"
      ],
      "metadata": {
        "id": "wFjGXOaMd95m"
      },
      "id": "wFjGXOaMd95m",
      "execution_count": null,
      "outputs": []
    },
    {
      "cell_type": "code",
      "source": [
        "d"
      ],
      "metadata": {
        "id": "kLFatjEEfUjM"
      },
      "id": "kLFatjEEfUjM",
      "execution_count": null,
      "outputs": []
    },
    {
      "cell_type": "code",
      "source": [
        "d[0:2]"
      ],
      "metadata": {
        "id": "iPFi8hj7fUs7"
      },
      "id": "iPFi8hj7fUs7",
      "execution_count": null,
      "outputs": []
    },
    {
      "cell_type": "code",
      "source": [
        "d['apple':'grapes']"
      ],
      "metadata": {
        "id": "VemBpHy5f3eV"
      },
      "id": "VemBpHy5f3eV",
      "execution_count": null,
      "outputs": []
    },
    {
      "cell_type": "code",
      "source": [
        "d1={'apple':90,'apple':20}"
      ],
      "metadata": {
        "id": "uL8yZL-8f6_8"
      },
      "id": "uL8yZL-8f6_8",
      "execution_count": null,
      "outputs": []
    },
    {
      "cell_type": "code",
      "source": [
        "d1\n"
      ],
      "metadata": {
        "id": "3IhnUwnQkAa-"
      },
      "id": "3IhnUwnQkAa-",
      "execution_count": null,
      "outputs": []
    },
    {
      "cell_type": "code",
      "source": [
        "d1['apple']"
      ],
      "metadata": {
        "id": "vhb0Ut4MkBPN"
      },
      "id": "vhb0Ut4MkBPN",
      "execution_count": null,
      "outputs": []
    },
    {
      "cell_type": "code",
      "source": [
        "# update"
      ],
      "metadata": {
        "id": "dvbw18w2kCmL"
      },
      "id": "dvbw18w2kCmL",
      "execution_count": null,
      "outputs": []
    },
    {
      "cell_type": "code",
      "source": [
        "d"
      ],
      "metadata": {
        "id": "y3KCzc1VkH75"
      },
      "id": "y3KCzc1VkH75",
      "execution_count": null,
      "outputs": []
    },
    {
      "cell_type": "code",
      "source": [
        "d['apple']=150"
      ],
      "metadata": {
        "id": "ovxhKM8fkJuI"
      },
      "id": "ovxhKM8fkJuI",
      "execution_count": null,
      "outputs": []
    },
    {
      "cell_type": "code",
      "source": [
        "d"
      ],
      "metadata": {
        "id": "PVKjqlgSkQpB"
      },
      "id": "PVKjqlgSkQpB",
      "execution_count": null,
      "outputs": []
    },
    {
      "cell_type": "code",
      "source": [
        "d[150]='abc' # insert"
      ],
      "metadata": {
        "id": "S3eVAxNokRFZ"
      },
      "id": "S3eVAxNokRFZ",
      "execution_count": null,
      "outputs": []
    },
    {
      "cell_type": "code",
      "source": [
        "d"
      ],
      "metadata": {
        "id": "BaVpExlfklqY"
      },
      "id": "BaVpExlfklqY",
      "execution_count": null,
      "outputs": []
    },
    {
      "cell_type": "code",
      "source": [
        "d['orange']=80"
      ],
      "metadata": {
        "id": "9AoGfclXkm99"
      },
      "id": "9AoGfclXkm99",
      "execution_count": null,
      "outputs": []
    },
    {
      "cell_type": "code",
      "source": [
        "d"
      ],
      "metadata": {
        "id": "leJuBugZk8XV"
      },
      "id": "leJuBugZk8XV",
      "execution_count": null,
      "outputs": []
    },
    {
      "cell_type": "code",
      "source": [
        "d.insert('xyz',123)"
      ],
      "metadata": {
        "id": "QI7rCl-1lFcn"
      },
      "id": "QI7rCl-1lFcn",
      "execution_count": null,
      "outputs": []
    },
    {
      "cell_type": "code",
      "source": [
        "del d[150] # deletion"
      ],
      "metadata": {
        "id": "CHssUOxyk8t-"
      },
      "id": "CHssUOxyk8t-",
      "execution_count": null,
      "outputs": []
    },
    {
      "cell_type": "code",
      "source": [
        "d"
      ],
      "metadata": {
        "id": "I-d0B331lEs4"
      },
      "id": "I-d0B331lEs4",
      "execution_count": null,
      "outputs": []
    },
    {
      "cell_type": "code",
      "source": [
        "del d['apple']"
      ],
      "metadata": {
        "id": "PafOhIBilNv7"
      },
      "id": "PafOhIBilNv7",
      "execution_count": null,
      "outputs": []
    },
    {
      "cell_type": "code",
      "source": [
        "d"
      ],
      "metadata": {
        "id": "SUNOvn0cldNP"
      },
      "id": "SUNOvn0cldNP",
      "execution_count": null,
      "outputs": []
    },
    {
      "cell_type": "code",
      "source": [
        "demo={123456789:'abc',True:False,'xyz':123}"
      ],
      "metadata": {
        "id": "tpaXPr5nld3h"
      },
      "id": "tpaXPr5nld3h",
      "execution_count": null,
      "outputs": []
    },
    {
      "cell_type": "code",
      "source": [
        "demo"
      ],
      "metadata": {
        "id": "5dtZGrgMlqxH"
      },
      "id": "5dtZGrgMlqxH",
      "execution_count": null,
      "outputs": []
    },
    {
      "cell_type": "code",
      "source": [
        "d"
      ],
      "metadata": {
        "id": "BvzNMViZlr2W"
      },
      "id": "BvzNMViZlr2W",
      "execution_count": null,
      "outputs": []
    },
    {
      "cell_type": "code",
      "source": [
        "d.keys()"
      ],
      "metadata": {
        "id": "xdLAOFa9l7ir"
      },
      "id": "xdLAOFa9l7ir",
      "execution_count": null,
      "outputs": []
    },
    {
      "cell_type": "code",
      "source": [
        "d.values()"
      ],
      "metadata": {
        "id": "zkpL8Khrl9Ec"
      },
      "id": "zkpL8Khrl9Ec",
      "execution_count": null,
      "outputs": []
    },
    {
      "cell_type": "code",
      "source": [
        "demo.keys()"
      ],
      "metadata": {
        "id": "YD800VKDl-aa"
      },
      "id": "YD800VKDl-aa",
      "execution_count": null,
      "outputs": []
    },
    {
      "cell_type": "code",
      "source": [
        "demo.values()"
      ],
      "metadata": {
        "id": "ITieXd8EmAB5"
      },
      "id": "ITieXd8EmAB5",
      "execution_count": null,
      "outputs": []
    },
    {
      "cell_type": "markdown",
      "source": [
        "### set\n"
      ],
      "metadata": {
        "id": "qW0wv8wxmcqL"
      },
      "id": "qW0wv8wxmcqL"
    },
    {
      "cell_type": "code",
      "source": [
        "s={2,9,0,123,'abc','aaa',1234,9.5} #unordered"
      ],
      "metadata": {
        "id": "cKg9PiBWmBxZ"
      },
      "id": "cKg9PiBWmBxZ",
      "execution_count": null,
      "outputs": []
    },
    {
      "cell_type": "code",
      "source": [
        "s"
      ],
      "metadata": {
        "id": "8rYJW0fbnW1H"
      },
      "id": "8rYJW0fbnW1H",
      "execution_count": null,
      "outputs": []
    },
    {
      "cell_type": "code",
      "source": [
        "l=[2,9,0,123,'abc','aaa',1234,9.5]"
      ],
      "metadata": {
        "id": "oI6-tBmgnXhp"
      },
      "id": "oI6-tBmgnXhp",
      "execution_count": null,
      "outputs": []
    },
    {
      "cell_type": "code",
      "source": [
        "l"
      ],
      "metadata": {
        "id": "O8shpxDvnnNH"
      },
      "id": "O8shpxDvnnNH",
      "execution_count": null,
      "outputs": []
    },
    {
      "cell_type": "code",
      "source": [
        "s={7,9,1,1,1,1,9,0,7,3,4}"
      ],
      "metadata": {
        "id": "xBebPEsTnneE"
      },
      "id": "xBebPEsTnneE",
      "execution_count": null,
      "outputs": []
    },
    {
      "cell_type": "code",
      "source": [
        "s"
      ],
      "metadata": {
        "id": "yVkccyhloDCw"
      },
      "id": "yVkccyhloDCw",
      "execution_count": null,
      "outputs": []
    },
    {
      "cell_type": "code",
      "source": [
        "# inserting elements in nested list\n",
        "# inserting multiple elements inside nested list\n",
        "# insertion, deletion, updation on set"
      ],
      "metadata": {
        "id": "xt_7_FmyoDRF"
      },
      "id": "xt_7_FmyoDRF",
      "execution_count": null,
      "outputs": []
    },
    {
      "cell_type": "markdown",
      "source": [
        "white board link copy and paste in new tab -\n",
        "\n",
        "\n",
        "\n",
        "https://miro.com/app/board/uXjVKCUJtLM=/?share_link_id=823957950797"
      ],
      "metadata": {
        "id": "dfMoLvosrPL6"
      },
      "id": "dfMoLvosrPL6"
    },
    {
      "cell_type": "code",
      "source": [
        "s={2,9,0,123,'aaa','abc',1234,9.5}\n"
      ],
      "metadata": {
        "id": "S4gvzmMYrPml"
      },
      "id": "S4gvzmMYrPml",
      "execution_count": null,
      "outputs": []
    },
    {
      "cell_type": "code",
      "source": [
        "s"
      ],
      "metadata": {
        "id": "8kSCmr2d5teN"
      },
      "id": "8kSCmr2d5teN",
      "execution_count": null,
      "outputs": []
    },
    {
      "cell_type": "code",
      "source": [
        "type(s)"
      ],
      "metadata": {
        "id": "dIBqFHP_5t5h"
      },
      "id": "dIBqFHP_5t5h",
      "execution_count": null,
      "outputs": []
    },
    {
      "cell_type": "code",
      "source": [
        "# insert element into set\n",
        "s.add('apple')"
      ],
      "metadata": {
        "id": "GndvwZhR5uqj"
      },
      "id": "GndvwZhR5uqj",
      "execution_count": null,
      "outputs": []
    },
    {
      "cell_type": "code",
      "source": [
        "s"
      ],
      "metadata": {
        "id": "tgCj_tOt6FTp"
      },
      "id": "tgCj_tOt6FTp",
      "execution_count": null,
      "outputs": []
    },
    {
      "cell_type": "code",
      "source": [
        "# update\n",
        "s1={1,8,9,0,7}"
      ],
      "metadata": {
        "id": "GX8KuM0k6GCY"
      },
      "id": "GX8KuM0k6GCY",
      "execution_count": null,
      "outputs": []
    },
    {
      "cell_type": "code",
      "source": [
        "s.update(s1)"
      ],
      "metadata": {
        "id": "WcWEqOqB6Sih"
      },
      "id": "WcWEqOqB6Sih",
      "execution_count": null,
      "outputs": []
    },
    {
      "cell_type": "code",
      "source": [
        "s"
      ],
      "metadata": {
        "id": "yWWjuH0I6UyB"
      },
      "id": "yWWjuH0I6UyB",
      "execution_count": null,
      "outputs": []
    },
    {
      "cell_type": "code",
      "source": [
        "# remove an element\n",
        "s.remove('aaa')"
      ],
      "metadata": {
        "id": "8P45vGAu6VdG"
      },
      "id": "8P45vGAu6VdG",
      "execution_count": null,
      "outputs": []
    },
    {
      "cell_type": "code",
      "source": [
        "s"
      ],
      "metadata": {
        "id": "ZsI5o7Ii6igU"
      },
      "id": "ZsI5o7Ii6igU",
      "execution_count": null,
      "outputs": []
    },
    {
      "cell_type": "markdown",
      "source": [
        "### tuple"
      ],
      "metadata": {
        "id": "c8IaSj6z7XFj"
      },
      "id": "c8IaSj6z7XFj"
    },
    {
      "cell_type": "code",
      "source": [
        "l=[9,0,8,6]"
      ],
      "metadata": {
        "id": "vwVm1gWR6jIm"
      },
      "id": "vwVm1gWR6jIm",
      "execution_count": null,
      "outputs": []
    },
    {
      "cell_type": "code",
      "source": [
        "type(l)"
      ],
      "metadata": {
        "colab": {
          "base_uri": "https://localhost:8080/"
        },
        "id": "5djQ9Gos7cg5",
        "outputId": "4719eda3-b3d2-4bf3-823e-2d8c3e69d630"
      },
      "id": "5djQ9Gos7cg5",
      "execution_count": null,
      "outputs": [
        {
          "output_type": "execute_result",
          "data": {
            "text/plain": [
              "list"
            ]
          },
          "metadata": {},
          "execution_count": 87
        }
      ]
    },
    {
      "cell_type": "code",
      "source": [
        "t=(9,0,8,6)"
      ],
      "metadata": {
        "id": "r5Zy4Pvj7dZS"
      },
      "id": "r5Zy4Pvj7dZS",
      "execution_count": null,
      "outputs": []
    },
    {
      "cell_type": "code",
      "source": [
        "type(t)"
      ],
      "metadata": {
        "colab": {
          "base_uri": "https://localhost:8080/"
        },
        "id": "W3KKM-bR7ibd",
        "outputId": "02c2b6ad-4856-481a-f345-d11ac96fa26d"
      },
      "id": "W3KKM-bR7ibd",
      "execution_count": null,
      "outputs": [
        {
          "output_type": "execute_result",
          "data": {
            "text/plain": [
              "tuple"
            ]
          },
          "metadata": {},
          "execution_count": 89
        }
      ]
    },
    {
      "cell_type": "code",
      "source": [
        "t1=2,8,9,0,7"
      ],
      "metadata": {
        "id": "1maXuQ3V7jNj"
      },
      "id": "1maXuQ3V7jNj",
      "execution_count": null,
      "outputs": []
    },
    {
      "cell_type": "code",
      "source": [
        "type(t1)"
      ],
      "metadata": {
        "id": "hGEJDIvQ7_tC"
      },
      "id": "hGEJDIvQ7_tC",
      "execution_count": null,
      "outputs": []
    },
    {
      "cell_type": "code",
      "source": [
        "l"
      ],
      "metadata": {
        "id": "PmeDq_sv8Gr6"
      },
      "id": "PmeDq_sv8Gr6",
      "execution_count": null,
      "outputs": []
    },
    {
      "cell_type": "code",
      "source": [
        "l[0]"
      ],
      "metadata": {
        "colab": {
          "base_uri": "https://localhost:8080/"
        },
        "id": "4GHRMl698AkV",
        "outputId": "45edf4bb-8512-4081-967d-0abeee1b8c80"
      },
      "id": "4GHRMl698AkV",
      "execution_count": null,
      "outputs": [
        {
          "output_type": "execute_result",
          "data": {
            "text/plain": [
              "9"
            ]
          },
          "metadata": {},
          "execution_count": 90
        }
      ]
    },
    {
      "cell_type": "code",
      "source": [
        "t"
      ],
      "metadata": {
        "colab": {
          "base_uri": "https://localhost:8080/"
        },
        "id": "RspXyU-r8GER",
        "outputId": "c46de8cb-1240-4b42-c492-6850091508c3"
      },
      "id": "RspXyU-r8GER",
      "execution_count": null,
      "outputs": [
        {
          "output_type": "execute_result",
          "data": {
            "text/plain": [
              "(9, 0, 8, 6)"
            ]
          },
          "metadata": {},
          "execution_count": 91
        }
      ]
    },
    {
      "cell_type": "code",
      "source": [
        "t[0]"
      ],
      "metadata": {
        "colab": {
          "base_uri": "https://localhost:8080/"
        },
        "id": "vxXlpF9o8Jr0",
        "outputId": "1414e4e5-37ae-4127-8548-578519e99eb9"
      },
      "id": "vxXlpF9o8Jr0",
      "execution_count": null,
      "outputs": [
        {
          "output_type": "execute_result",
          "data": {
            "text/plain": [
              "9"
            ]
          },
          "metadata": {},
          "execution_count": 92
        }
      ]
    },
    {
      "cell_type": "code",
      "source": [
        "l"
      ],
      "metadata": {
        "colab": {
          "base_uri": "https://localhost:8080/"
        },
        "id": "ig1cJWc08PSx",
        "outputId": "f974b7b9-b380-484a-837e-a8170b30b990"
      },
      "id": "ig1cJWc08PSx",
      "execution_count": null,
      "outputs": [
        {
          "output_type": "execute_result",
          "data": {
            "text/plain": [
              "[9, 0, 8, 6]"
            ]
          },
          "metadata": {},
          "execution_count": 93
        }
      ]
    },
    {
      "cell_type": "code",
      "source": [
        "l[0]=90\n",
        "l"
      ],
      "metadata": {
        "colab": {
          "base_uri": "https://localhost:8080/"
        },
        "id": "HROIds0F8eYQ",
        "outputId": "7aaaeccd-8a64-4654-d117-4f7de1507096"
      },
      "id": "HROIds0F8eYQ",
      "execution_count": null,
      "outputs": [
        {
          "output_type": "execute_result",
          "data": {
            "text/plain": [
              "[90, 0, 8, 6]"
            ]
          },
          "metadata": {},
          "execution_count": 94
        }
      ]
    },
    {
      "cell_type": "code",
      "source": [
        "t"
      ],
      "metadata": {
        "colab": {
          "base_uri": "https://localhost:8080/"
        },
        "id": "CHmo6O-F8kfz",
        "outputId": "d3e13a17-c540-4ec2-9693-b70ff9545b4a"
      },
      "id": "CHmo6O-F8kfz",
      "execution_count": null,
      "outputs": [
        {
          "output_type": "execute_result",
          "data": {
            "text/plain": [
              "(9, 0, 8, 6)"
            ]
          },
          "metadata": {},
          "execution_count": 95
        }
      ]
    },
    {
      "cell_type": "code",
      "source": [
        "t[0]=90"
      ],
      "metadata": {
        "colab": {
          "base_uri": "https://localhost:8080/",
          "height": 145
        },
        "id": "JMYkstve8lzB",
        "outputId": "22b0b901-c032-4c25-d3b1-a43c59e9ce74"
      },
      "id": "JMYkstve8lzB",
      "execution_count": null,
      "outputs": [
        {
          "output_type": "error",
          "ename": "TypeError",
          "evalue": "'tuple' object does not support item assignment",
          "traceback": [
            "\u001b[0;31m---------------------------------------------------------------------------\u001b[0m",
            "\u001b[0;31mTypeError\u001b[0m                                 Traceback (most recent call last)",
            "\u001b[0;32m<ipython-input-96-aeb6dc0064f0>\u001b[0m in \u001b[0;36m<cell line: 1>\u001b[0;34m()\u001b[0m\n\u001b[0;32m----> 1\u001b[0;31m \u001b[0mt\u001b[0m\u001b[0;34m[\u001b[0m\u001b[0;36m0\u001b[0m\u001b[0;34m]\u001b[0m\u001b[0;34m=\u001b[0m\u001b[0;36m90\u001b[0m\u001b[0;34m\u001b[0m\u001b[0;34m\u001b[0m\u001b[0m\n\u001b[0m",
            "\u001b[0;31mTypeError\u001b[0m: 'tuple' object does not support item assignment"
          ]
        }
      ]
    },
    {
      "cell_type": "code",
      "source": [
        "t"
      ],
      "metadata": {
        "colab": {
          "base_uri": "https://localhost:8080/"
        },
        "id": "DvMzPiw78nms",
        "outputId": "dab452e0-a9b8-46e9-cc20-7a41e72e6f57"
      },
      "id": "DvMzPiw78nms",
      "execution_count": null,
      "outputs": [
        {
          "output_type": "execute_result",
          "data": {
            "text/plain": [
              "(9, 0, 8, 6)"
            ]
          },
          "metadata": {},
          "execution_count": 97
        }
      ]
    },
    {
      "cell_type": "code",
      "source": [
        "del t"
      ],
      "metadata": {
        "id": "Xg5d2n668ob2"
      },
      "id": "Xg5d2n668ob2",
      "execution_count": null,
      "outputs": []
    },
    {
      "cell_type": "code",
      "source": [
        "t"
      ],
      "metadata": {
        "colab": {
          "base_uri": "https://localhost:8080/",
          "height": 145
        },
        "id": "RVkexmsZ_DtM",
        "outputId": "c8b8cff4-27a1-427e-e3cf-5ed518d07179"
      },
      "id": "RVkexmsZ_DtM",
      "execution_count": null,
      "outputs": [
        {
          "output_type": "error",
          "ename": "NameError",
          "evalue": "name 't' is not defined",
          "traceback": [
            "\u001b[0;31m---------------------------------------------------------------------------\u001b[0m",
            "\u001b[0;31mNameError\u001b[0m                                 Traceback (most recent call last)",
            "\u001b[0;32m<ipython-input-99-34fc7a11cb38>\u001b[0m in \u001b[0;36m<cell line: 1>\u001b[0;34m()\u001b[0m\n\u001b[0;32m----> 1\u001b[0;31m \u001b[0mt\u001b[0m\u001b[0;34m\u001b[0m\u001b[0;34m\u001b[0m\u001b[0m\n\u001b[0m",
            "\u001b[0;31mNameError\u001b[0m: name 't' is not defined"
          ]
        }
      ]
    },
    {
      "cell_type": "code",
      "source": [
        "a='abc'"
      ],
      "metadata": {
        "id": "OSf8sT-W_D9r"
      },
      "id": "OSf8sT-W_D9r",
      "execution_count": null,
      "outputs": []
    },
    {
      "cell_type": "code",
      "source": [
        "type(a)"
      ],
      "metadata": {
        "colab": {
          "base_uri": "https://localhost:8080/"
        },
        "id": "OBWmtXflAbRf",
        "outputId": "8ebc69e6-91ed-4d3f-9882-c85426ef3a94"
      },
      "id": "OBWmtXflAbRf",
      "execution_count": null,
      "outputs": [
        {
          "output_type": "execute_result",
          "data": {
            "text/plain": [
              "str"
            ]
          },
          "metadata": {},
          "execution_count": 101
        }
      ]
    },
    {
      "cell_type": "code",
      "source": [
        "a[0]"
      ],
      "metadata": {
        "colab": {
          "base_uri": "https://localhost:8080/",
          "height": 36
        },
        "id": "D-qoiaJLAcJ6",
        "outputId": "076bcb80-8230-4ebc-bfa7-9d1c1a66de68"
      },
      "id": "D-qoiaJLAcJ6",
      "execution_count": null,
      "outputs": [
        {
          "output_type": "execute_result",
          "data": {
            "text/plain": [
              "'a'"
            ],
            "application/vnd.google.colaboratory.intrinsic+json": {
              "type": "string"
            }
          },
          "metadata": {},
          "execution_count": 102
        }
      ]
    },
    {
      "cell_type": "code",
      "source": [
        "# update\n",
        "a[0]='d'"
      ],
      "metadata": {
        "colab": {
          "base_uri": "https://localhost:8080/",
          "height": 163
        },
        "id": "ouVEtkP6AiET",
        "outputId": "60d5652c-cd93-4771-a962-c8a7abcdbb58"
      },
      "id": "ouVEtkP6AiET",
      "execution_count": null,
      "outputs": [
        {
          "output_type": "error",
          "ename": "TypeError",
          "evalue": "'str' object does not support item assignment",
          "traceback": [
            "\u001b[0;31m---------------------------------------------------------------------------\u001b[0m",
            "\u001b[0;31mTypeError\u001b[0m                                 Traceback (most recent call last)",
            "\u001b[0;32m<ipython-input-103-68b0339c908a>\u001b[0m in \u001b[0;36m<cell line: 2>\u001b[0;34m()\u001b[0m\n\u001b[1;32m      1\u001b[0m \u001b[0;31m# update\u001b[0m\u001b[0;34m\u001b[0m\u001b[0;34m\u001b[0m\u001b[0m\n\u001b[0;32m----> 2\u001b[0;31m \u001b[0ma\u001b[0m\u001b[0;34m[\u001b[0m\u001b[0;36m0\u001b[0m\u001b[0;34m]\u001b[0m\u001b[0;34m=\u001b[0m\u001b[0;34m'd'\u001b[0m\u001b[0;34m\u001b[0m\u001b[0;34m\u001b[0m\u001b[0m\n\u001b[0m",
            "\u001b[0;31mTypeError\u001b[0m: 'str' object does not support item assignment"
          ]
        }
      ]
    },
    {
      "cell_type": "code",
      "source": [
        "a='900'"
      ],
      "metadata": {
        "id": "4GlNuXLUAqvw"
      },
      "id": "4GlNuXLUAqvw",
      "execution_count": null,
      "outputs": []
    },
    {
      "cell_type": "code",
      "source": [
        "a[0]"
      ],
      "metadata": {
        "colab": {
          "base_uri": "https://localhost:8080/",
          "height": 36
        },
        "id": "AH6lt2HYA4k-",
        "outputId": "b41229a0-8bfe-4122-cb07-02a815408348"
      },
      "id": "AH6lt2HYA4k-",
      "execution_count": null,
      "outputs": [
        {
          "output_type": "execute_result",
          "data": {
            "text/plain": [
              "'9'"
            ],
            "application/vnd.google.colaboratory.intrinsic+json": {
              "type": "string"
            }
          },
          "metadata": {},
          "execution_count": 105
        }
      ]
    },
    {
      "cell_type": "code",
      "source": [
        "a[1]"
      ],
      "metadata": {
        "colab": {
          "base_uri": "https://localhost:8080/",
          "height": 36
        },
        "id": "aV_SCs-KA5I-",
        "outputId": "be5b229d-41c4-4b8d-d26e-7d2e43ece60f"
      },
      "id": "aV_SCs-KA5I-",
      "execution_count": null,
      "outputs": [
        {
          "output_type": "execute_result",
          "data": {
            "text/plain": [
              "'0'"
            ],
            "application/vnd.google.colaboratory.intrinsic+json": {
              "type": "string"
            }
          },
          "metadata": {},
          "execution_count": 106
        }
      ]
    },
    {
      "cell_type": "code",
      "source": [
        "a[2]"
      ],
      "metadata": {
        "colab": {
          "base_uri": "https://localhost:8080/",
          "height": 36
        },
        "id": "h3AntWS0A5wn",
        "outputId": "605c6b5d-4f47-4e58-b457-43dc1141d7cc"
      },
      "id": "h3AntWS0A5wn",
      "execution_count": null,
      "outputs": [
        {
          "output_type": "execute_result",
          "data": {
            "text/plain": [
              "'0'"
            ],
            "application/vnd.google.colaboratory.intrinsic+json": {
              "type": "string"
            }
          },
          "metadata": {},
          "execution_count": 107
        }
      ]
    },
    {
      "cell_type": "code",
      "source": [
        "obj1 = {\"hi\"}\n",
        "obj2 = {\"hi\"}\n",
        "obj1 is obj2\n",
        "# memory"
      ],
      "metadata": {
        "colab": {
          "base_uri": "https://localhost:8080/"
        },
        "id": "z2RMl9DKA6en",
        "outputId": "f559457c-ab94-4b2a-9a85-b8319313a5bf"
      },
      "id": "z2RMl9DKA6en",
      "execution_count": null,
      "outputs": [
        {
          "output_type": "execute_result",
          "data": {
            "text/plain": [
              "False"
            ]
          },
          "metadata": {},
          "execution_count": 108
        }
      ]
    },
    {
      "cell_type": "code",
      "source": [
        "obj1 == obj2\n",
        "# values"
      ],
      "metadata": {
        "colab": {
          "base_uri": "https://localhost:8080/"
        },
        "id": "4gUc8nK-O_eZ",
        "outputId": "f3d88a70-be10-43c0-9251-857260e78ac0"
      },
      "id": "4gUc8nK-O_eZ",
      "execution_count": null,
      "outputs": [
        {
          "output_type": "execute_result",
          "data": {
            "text/plain": [
              "True"
            ]
          },
          "metadata": {},
          "execution_count": 109
        }
      ]
    },
    {
      "cell_type": "code",
      "source": [
        "\n",
        "a = 10\n",
        "b = 10\n",
        "a is b"
      ],
      "metadata": {
        "colab": {
          "base_uri": "https://localhost:8080/"
        },
        "id": "tZyXoS42PBwm",
        "outputId": "4bdc8e67-38b4-4c4c-e345-5d6cb6a014fa"
      },
      "id": "tZyXoS42PBwm",
      "execution_count": null,
      "outputs": [
        {
          "output_type": "execute_result",
          "data": {
            "text/plain": [
              "True"
            ]
          },
          "metadata": {},
          "execution_count": 110
        }
      ]
    },
    {
      "cell_type": "code",
      "source": [
        "a=[9,0,8]\n",
        "b=[9,0,8]"
      ],
      "metadata": {
        "id": "3c4jkMKqPeRQ"
      },
      "id": "3c4jkMKqPeRQ",
      "execution_count": null,
      "outputs": []
    },
    {
      "cell_type": "code",
      "source": [
        "a is b"
      ],
      "metadata": {
        "colab": {
          "base_uri": "https://localhost:8080/"
        },
        "id": "Rka2d-gAP4WI",
        "outputId": "4b015259-2995-457d-a695-9f49f191538a"
      },
      "id": "Rka2d-gAP4WI",
      "execution_count": null,
      "outputs": [
        {
          "output_type": "execute_result",
          "data": {
            "text/plain": [
              "False"
            ]
          },
          "metadata": {},
          "execution_count": 112
        }
      ]
    },
    {
      "cell_type": "code",
      "source": [
        "a==b"
      ],
      "metadata": {
        "colab": {
          "base_uri": "https://localhost:8080/"
        },
        "id": "ub5JWngrP5W1",
        "outputId": "dfe39d4b-4dc1-4c20-bfd4-6255b9073159"
      },
      "id": "ub5JWngrP5W1",
      "execution_count": null,
      "outputs": [
        {
          "output_type": "execute_result",
          "data": {
            "text/plain": [
              "True"
            ]
          },
          "metadata": {},
          "execution_count": 113
        }
      ]
    },
    {
      "cell_type": "code",
      "source": [
        "a=1000\n",
        "b=1000"
      ],
      "metadata": {
        "id": "NhDu8ux1P6rb"
      },
      "id": "NhDu8ux1P6rb",
      "execution_count": null,
      "outputs": []
    },
    {
      "cell_type": "code",
      "source": [
        "a is b"
      ],
      "metadata": {
        "colab": {
          "base_uri": "https://localhost:8080/"
        },
        "id": "HPkvmV3CQZXy",
        "outputId": "818443c0-96de-4be5-b59c-acd4ef6cbe09"
      },
      "id": "HPkvmV3CQZXy",
      "execution_count": null,
      "outputs": [
        {
          "output_type": "execute_result",
          "data": {
            "text/plain": [
              "False"
            ]
          },
          "metadata": {},
          "execution_count": 115
        }
      ]
    },
    {
      "cell_type": "code",
      "source": [
        "a=10\n",
        "b=10\n",
        "a is b"
      ],
      "metadata": {
        "colab": {
          "base_uri": "https://localhost:8080/"
        },
        "id": "qkxKZXX_QaIf",
        "outputId": "2e1f0e67-1353-4abd-e11c-f42394ae942d"
      },
      "id": "qkxKZXX_QaIf",
      "execution_count": null,
      "outputs": [
        {
          "output_type": "execute_result",
          "data": {
            "text/plain": [
              "True"
            ]
          },
          "metadata": {},
          "execution_count": 116
        }
      ]
    },
    {
      "cell_type": "code",
      "source": [
        "a ==b"
      ],
      "metadata": {
        "colab": {
          "base_uri": "https://localhost:8080/"
        },
        "id": "DMmOIgfjQea3",
        "outputId": "f88820b6-6645-4201-b5de-dc8454a97981"
      },
      "id": "DMmOIgfjQea3",
      "execution_count": null,
      "outputs": [
        {
          "output_type": "execute_result",
          "data": {
            "text/plain": [
              "True"
            ]
          },
          "metadata": {},
          "execution_count": 117
        }
      ]
    },
    {
      "cell_type": "markdown",
      "source": [
        "## 05-06-2024 Wednesday"
      ],
      "metadata": {
        "id": "b5Wa0DvFAcnc"
      },
      "id": "b5Wa0DvFAcnc"
    },
    {
      "cell_type": "code",
      "source": [
        "n=-90\n",
        "if n>0:\n",
        "  print(\"num is +ve\")\n",
        "else:\n",
        "  print(\"num is -ve\")"
      ],
      "metadata": {
        "id": "yuUj6H-UQqDF",
        "colab": {
          "base_uri": "https://localhost:8080/"
        },
        "outputId": "99f1f029-7a63-4fda-f1eb-411506fe3776"
      },
      "id": "yuUj6H-UQqDF",
      "execution_count": 2,
      "outputs": [
        {
          "output_type": "stream",
          "name": "stdout",
          "text": [
            "num is -ve\n"
          ]
        }
      ]
    },
    {
      "cell_type": "code",
      "source": [
        "n=90\n",
        "if n>0\n",
        "  print(\"num is +ve\")\n",
        "else:\n",
        "  print(\"num is -ve\")"
      ],
      "metadata": {
        "colab": {
          "base_uri": "https://localhost:8080/",
          "height": 109
        },
        "id": "KpzFrQJHJ0qY",
        "outputId": "cf74f2f1-9b2e-46ee-f3c5-2ea282406c36"
      },
      "id": "KpzFrQJHJ0qY",
      "execution_count": 3,
      "outputs": [
        {
          "output_type": "error",
          "ename": "SyntaxError",
          "evalue": "expected ':' (<ipython-input-3-8bc9da77df76>, line 2)",
          "traceback": [
            "\u001b[0;36m  File \u001b[0;32m\"<ipython-input-3-8bc9da77df76>\"\u001b[0;36m, line \u001b[0;32m2\u001b[0m\n\u001b[0;31m    if n>0\u001b[0m\n\u001b[0m          ^\u001b[0m\n\u001b[0;31mSyntaxError\u001b[0m\u001b[0;31m:\u001b[0m expected ':'\n"
          ]
        }
      ]
    },
    {
      "cell_type": "code",
      "source": [
        "n=90\n",
        "if n>0:\n",
        "  print(\"num is +ve\")\n",
        "  else:\n",
        "    print(\"num is -ve\")"
      ],
      "metadata": {
        "colab": {
          "base_uri": "https://localhost:8080/",
          "height": 109
        },
        "id": "NmfAIF4fKByM",
        "outputId": "85209b8b-fa92-4fa1-f998-8bbbed409cd8"
      },
      "id": "NmfAIF4fKByM",
      "execution_count": 4,
      "outputs": [
        {
          "output_type": "error",
          "ename": "SyntaxError",
          "evalue": "invalid syntax (<ipython-input-4-19ad3d893833>, line 4)",
          "traceback": [
            "\u001b[0;36m  File \u001b[0;32m\"<ipython-input-4-19ad3d893833>\"\u001b[0;36m, line \u001b[0;32m4\u001b[0m\n\u001b[0;31m    else:\u001b[0m\n\u001b[0m    ^\u001b[0m\n\u001b[0;31mSyntaxError\u001b[0m\u001b[0;31m:\u001b[0m invalid syntax\n"
          ]
        }
      ]
    },
    {
      "cell_type": "code",
      "source": [
        "n=90\n",
        "if n>0:\n",
        "  print(\"num is +ve\")\n",
        "else:\n",
        "print(\"num is -ve\")"
      ],
      "metadata": {
        "colab": {
          "base_uri": "https://localhost:8080/",
          "height": 109
        },
        "id": "pGPVHd2IKKQi",
        "outputId": "9b4cec11-2e36-400d-ce38-c76fbd9c4eae"
      },
      "id": "pGPVHd2IKKQi",
      "execution_count": 7,
      "outputs": [
        {
          "output_type": "error",
          "ename": "IndentationError",
          "evalue": "expected an indented block after 'else' statement on line 4 (<ipython-input-7-f09889f43dc4>, line 5)",
          "traceback": [
            "\u001b[0;36m  File \u001b[0;32m\"<ipython-input-7-f09889f43dc4>\"\u001b[0;36m, line \u001b[0;32m5\u001b[0m\n\u001b[0;31m    print(\"num is -ve\")\u001b[0m\n\u001b[0m    ^\u001b[0m\n\u001b[0;31mIndentationError\u001b[0m\u001b[0;31m:\u001b[0m expected an indented block after 'else' statement on line 4\n"
          ]
        }
      ]
    },
    {
      "cell_type": "code",
      "source": [
        "n=0\n",
        "if n>0:\n",
        "  print(\"num is +ve\")\n",
        "elif n<0:\n",
        "  print(\"num is -ve\")\n",
        "else:\n",
        "  print(\"num is 0\")"
      ],
      "metadata": {
        "colab": {
          "base_uri": "https://localhost:8080/"
        },
        "id": "IiY3-wklKV49",
        "outputId": "bff69338-11f6-4239-a796-5039854ae754"
      },
      "id": "IiY3-wklKV49",
      "execution_count": 10,
      "outputs": [
        {
          "output_type": "stream",
          "name": "stdout",
          "text": [
            "num is 0\n"
          ]
        }
      ]
    },
    {
      "cell_type": "code",
      "source": [
        "n=-90\n",
        "if n>=0:\n",
        "  if n>0:\n",
        "    print(\"number is +ve\")\n",
        "  else:\n",
        "    print(\"number is 0\")\n",
        "else:\n",
        "  print(\"num is -ve\")"
      ],
      "metadata": {
        "colab": {
          "base_uri": "https://localhost:8080/"
        },
        "id": "ifdV-32QNzL7",
        "outputId": "4cb1b1fc-dc1b-4a7b-bba3-e8a6682fd6f5"
      },
      "id": "ifdV-32QNzL7",
      "execution_count": 13,
      "outputs": [
        {
          "output_type": "stream",
          "name": "stdout",
          "text": [
            "num is -ve\n"
          ]
        }
      ]
    },
    {
      "cell_type": "code",
      "source": [
        "# if else\n",
        "day=input(\"how is it outside?\")\n",
        "\n",
        "if day=='sunny':\n",
        "  print(\"its sunny outside\")\n",
        "else:\n",
        "  print(\"its not sunny\")"
      ],
      "metadata": {
        "colab": {
          "base_uri": "https://localhost:8080/"
        },
        "id": "yTpTKLaIRcsg",
        "outputId": "9384a1db-b9ac-48fa-e77c-b3bbb02e3544"
      },
      "id": "yTpTKLaIRcsg",
      "execution_count": 15,
      "outputs": [
        {
          "output_type": "stream",
          "name": "stdout",
          "text": [
            "how is it outside?sunny\n",
            "its sunny outside\n"
          ]
        }
      ]
    },
    {
      "cell_type": "code",
      "source": [
        "day=input(\"how is it outside?\")\n",
        "\n",
        "if day=='sunny':\n",
        "  print(\"its sunny outside\")\n",
        "elif day=='windy':\n",
        "  print(\"its windy wear a jacket\")\n",
        "else:\n",
        "  print(\"better stay home\")"
      ],
      "metadata": {
        "colab": {
          "base_uri": "https://localhost:8080/"
        },
        "id": "oqdvAnZlUuaQ",
        "outputId": "92223828-6464-4be3-d4de-c30bdd8266ec"
      },
      "id": "oqdvAnZlUuaQ",
      "execution_count": 19,
      "outputs": [
        {
          "output_type": "stream",
          "name": "stdout",
          "text": [
            "how is it outside?raining\n",
            "better stay home\n"
          ]
        }
      ]
    },
    {
      "cell_type": "code",
      "source": [
        "day=input(\"how is it outside?\")\n",
        "\n",
        "if day=='sunny':\n",
        "  print(\"its sunny outside\")\n",
        "  play=input(\"can we play?\")\n",
        "  if play=='yes':\n",
        "    print(\"yes we can\")\n",
        "  else:\n",
        "    print(\"no as it is super sunny\")\n",
        "else:\n",
        "  print(\"its not sunny\")"
      ],
      "metadata": {
        "colab": {
          "base_uri": "https://localhost:8080/"
        },
        "id": "vBYnRha1U6Df",
        "outputId": "92ec030d-c66b-4403-be34-ef0c0f45734b"
      },
      "id": "vBYnRha1U6Df",
      "execution_count": 22,
      "outputs": [
        {
          "output_type": "stream",
          "name": "stdout",
          "text": [
            "how is it outside?windy\n",
            "its not sunny\n"
          ]
        }
      ]
    },
    {
      "cell_type": "code",
      "source": [
        "# 1. check which number is greater a or b --> dynamic program\n",
        "# 2. check which is greater a/b/c --> dy prog\n"
      ],
      "metadata": {
        "id": "iLUEqgeFVU7u"
      },
      "id": "iLUEqgeFVU7u",
      "execution_count": 23,
      "outputs": []
    },
    {
      "cell_type": "code",
      "source": [
        "a = int(input(\"enter first no.\"))\n",
        "b = int(input(\"enter second no.\"))\n",
        "c = int(input(\"enter third no.\"))\n",
        "if (a>b and a>c):\n",
        "    print(\"First no. is greater than second and third no.\")\n",
        "elif (b> a and b>c):\n",
        "    print(\"Second no. is greater than first and third no.\")\n",
        "else:\n",
        "    print(\"Third no. is greater than second and first no.\")\n"
      ],
      "metadata": {
        "colab": {
          "base_uri": "https://localhost:8080/"
        },
        "id": "gHRNv7eoXd0w",
        "outputId": "ec0d6bcf-af41-4f2a-8ec5-81171a5af59b"
      },
      "id": "gHRNv7eoXd0w",
      "execution_count": 26,
      "outputs": [
        {
          "output_type": "stream",
          "name": "stdout",
          "text": [
            "enter first no.10\n",
            "enter second no.1\n",
            "enter third no.5\n",
            "First no. is greater than second and third no.\n"
          ]
        }
      ]
    },
    {
      "cell_type": "code",
      "source": [
        "a = input('Enter a number a')\n",
        "b = input('Enter a number b')\n",
        "if a > b:\n",
        "    print ('a > b')\n",
        "elif a==b:\n",
        "    print ('a = b')\n",
        "else:\n",
        "    print('a < b')"
      ],
      "metadata": {
        "colab": {
          "base_uri": "https://localhost:8080/"
        },
        "id": "4zFErW1mXho9",
        "outputId": "43a7c980-0c99-4034-a219-170dcd9a9edd"
      },
      "id": "4zFErW1mXho9",
      "execution_count": 29,
      "outputs": [
        {
          "output_type": "stream",
          "name": "stdout",
          "text": [
            "Enter a number a90\n",
            "Enter a number b99\n",
            "a < b\n"
          ]
        }
      ]
    },
    {
      "cell_type": "code",
      "source": [
        "a=int(input(\"Enter the value of a\"))\n",
        "b=int(input(\"Enter the value of b\"))\n",
        "if a>b:\n",
        "  print (\"a is greater\")\n",
        "else:\n",
        "  print (\"b is greater\")"
      ],
      "metadata": {
        "colab": {
          "base_uri": "https://localhost:8080/"
        },
        "id": "LHmnv_6nXymF",
        "outputId": "6d042f38-dc70-4ae7-82c7-f61723068a47"
      },
      "id": "LHmnv_6nXymF",
      "execution_count": 31,
      "outputs": [
        {
          "output_type": "stream",
          "name": "stdout",
          "text": [
            "Enter the value of a99\n",
            "Enter the value of b90\n",
            "a is greater\n"
          ]
        }
      ]
    },
    {
      "cell_type": "markdown",
      "source": [
        "https://miro.com/app/board/uXjVKCUJtLM=/?share_link_id=964091260705"
      ],
      "metadata": {
        "id": "eTYNFCnVZmvW"
      },
      "id": "eTYNFCnVZmvW"
    },
    {
      "cell_type": "code",
      "source": [],
      "metadata": {
        "id": "z9svheoXX-8S"
      },
      "id": "z9svheoXX-8S",
      "execution_count": null,
      "outputs": []
    }
  ],
  "metadata": {
    "kernelspec": {
      "display_name": "Python 3 (ipykernel)",
      "language": "python",
      "name": "python3"
    },
    "language_info": {
      "codemirror_mode": {
        "name": "ipython",
        "version": 3
      },
      "file_extension": ".py",
      "mimetype": "text/x-python",
      "name": "python",
      "nbconvert_exporter": "python",
      "pygments_lexer": "ipython3",
      "version": "3.10.9"
    },
    "colab": {
      "provenance": []
    }
  },
  "nbformat": 4,
  "nbformat_minor": 5
}