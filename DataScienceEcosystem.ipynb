{
 "cells": [
  {
   "cell_type": "markdown",
   "id": "417ef4b9-87d5-4615-9df6-6b36a3bc57fb",
   "metadata": {},
   "source": [
    "# Data Science Tools and Ecosystem"
   ]
  },
  {
   "cell_type": "markdown",
   "id": "d1d355c6-baaa-408d-a657-9463adfd4903",
   "metadata": {},
   "source": [
    "In this notebook, Data Science Tools and Ecosystem are summarized."
   ]
  },
  {
   "cell_type": "markdown",
   "id": "e644f5b2-36f7-4292-8649-c68791021285",
   "metadata": {},
   "source": [
    "**Objectives:**\n",
    "\n",
    "- Popular languages for data science\n",
    "- commonly used libraries\n",
    "- data science tools\n",
    "- arithmetic expression in Python\n"
   ]
  },
  {
   "cell_type": "markdown",
   "id": "60aab34a-40e8-4711-8ed8-604963a773ab",
   "metadata": {},
   "source": [
    "Some of the popular languages that Data Scientists use are:\n",
    "\n",
    "1. Python\n",
    "2. R\n",
    "3. SQL\n",
    "4. Julia"
   ]
  },
  {
   "cell_type": "markdown",
   "id": "ae8c0f58-2b5f-4da3-8ff1-f5d1703937ba",
   "metadata": {},
   "source": [
    "Some of the commonly used libraries used by Data Scientists include:\n",
    "\n",
    "1. Pandas\n",
    "2. Numpy\n",
    "3. Matplotlib\n",
    "4. SciPy"
   ]
  },
  {
   "cell_type": "markdown",
   "id": "d744ea9c-930e-466e-b918-e588f2acbf01",
   "metadata": {},
   "source": [
    "| Data Science Tools |\n",
    "|--------------------|\n",
    "| KNIME              |\n",
    "| Python             |\n",
    "| R                  |\n",
    "| MySql              |\n",
    "| Tensorflow         |\n"
   ]
  },
  {
   "cell_type": "markdown",
   "id": "eb3a876c-3022-4631-aebc-1f0ad850dfe7",
   "metadata": {},
   "source": [
    "### Below are a few examples of evaluating arithmetic expressions in Python"
   ]
  },
  {
   "cell_type": "code",
   "execution_count": 1,
   "id": "f0bf113a-f4a4-4187-8f7c-be19552f32f6",
   "metadata": {},
   "outputs": [
    {
     "data": {
      "text/plain": [
       "17"
      ]
     },
     "execution_count": 1,
     "metadata": {},
     "output_type": "execute_result"
    }
   ],
   "source": [
    "# This a simple arithmetic expression to mutiply then add integers\n",
    "(3*4)+5"
   ]
  },
  {
   "cell_type": "code",
   "execution_count": 2,
   "id": "423d353c-445d-43ba-bb57-b6aef8453595",
   "metadata": {},
   "outputs": [
    {
     "name": "stdout",
     "output_type": "stream",
     "text": [
      "3.3333333333333335\n"
     ]
    }
   ],
   "source": [
    "# This will convert 200 minutes to hours by diving by 60\n",
    "\n",
    "Minutes = 200\n",
    "Hours = 200/60\n",
    "print(Hours)"
   ]
  },
  {
   "cell_type": "markdown",
   "id": "20b0a719-fba9-4879-b335-6ac7aef66e6d",
   "metadata": {},
   "source": [
    "## Author\n",
    "Vivek A"
   ]
  },
  {
   "cell_type": "code",
   "execution_count": null,
   "id": "d1e5972e-e8ec-4b7b-ad74-b343b18b59e5",
   "metadata": {},
   "outputs": [],
   "source": []
  }
 ],
 "metadata": {
  "kernelspec": {
   "display_name": "Python 3 (ipykernel)",
   "language": "python",
   "name": "python3"
  },
  "language_info": {
   "codemirror_mode": {
    "name": "ipython",
    "version": 3
   },
   "file_extension": ".py",
   "mimetype": "text/x-python",
   "name": "python",
   "nbconvert_exporter": "python",
   "pygments_lexer": "ipython3",
   "version": "3.11.7"
  }
 },
 "nbformat": 4,
 "nbformat_minor": 5
}
